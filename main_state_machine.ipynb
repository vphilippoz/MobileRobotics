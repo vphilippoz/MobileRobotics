{
 "cells": [
  {
   "cell_type": "code",
   "execution_count": 8,
   "id": "7de24b46",
   "metadata": {
    "ExecuteTime": {
     "end_time": "2021-12-09T16:22:07.628245Z",
     "start_time": "2021-12-09T16:22:06.530348Z"
    }
   },
   "outputs": [],
   "source": [
    "import import_ipynb\n",
    "%run localisation.ipynb\n",
    "%run local_navigation_final.ipynb"
   ]
  },
  {
   "cell_type": "markdown",
   "id": "5ba02f63",
   "metadata": {},
   "source": [
    "# Global navigation functions\n",
    "those function are only temporary and used to test the well functioning of the state machine"
   ]
  },
  {
   "cell_type": "code",
   "execution_count": 9,
   "id": "b458af58",
   "metadata": {
    "ExecuteTime": {
     "end_time": "2021-12-09T16:22:08.423166Z",
     "start_time": "2021-12-09T16:22:08.415002Z"
    },
    "code_folding": [
     0
    ]
   },
   "outputs": [],
   "source": [
    "def get_angle_goal_thymio(tm_pos,tm_orient, goal_pos):\n",
    "    \"\"\"\n",
    "    This function computes the angle between the direction the Thymio should point and the orientation of the robot \n",
    "    in order to be aligned with the goal\n",
    "    \n",
    "    Arguments: th_pos:    position of the Thymio \n",
    "               th_orient: orientation of the robot\n",
    "               goal_pos:  [X,y] coordinates of the goal\n",
    "               \n",
    "    Return   : computed angle in range [-pi;pi]\n",
    "    \"\"\"\n",
    "    \n",
    "    #we start by computing the direction of the vector connecting the pose of the robot and the goal\n",
    "    alpha = math.atan2(goal_pos[1]-tm_pos[1], goal_pos[0]-tm_pos[0])\n",
    "    if alpha < 0:\n",
    "        alpha += 2*math.pi\n",
    "    \n",
    "    theta = tm_orient-alpha\n",
    "    \n",
    "    if theta > math.pi:\n",
    "        theta -= 2*math.pi\n",
    "    if theta < -math.pi:\n",
    "        theta += 2*math.pi\n",
    "\n",
    "    return theta"
   ]
  },
  {
   "cell_type": "code",
   "execution_count": 10,
   "id": "b2060cd2",
   "metadata": {
    "ExecuteTime": {
     "end_time": "2021-12-09T16:22:08.896036Z",
     "start_time": "2021-12-09T16:22:08.879816Z"
    },
    "code_folding": [
     1
    ]
   },
   "outputs": [],
   "source": [
    "angle_I_error = 0\n",
    "def angle_PI(tm_pos, tm_orient, goal_pos, reset):\n",
    "    \"\"\"\n",
    "        This function calulates the PI term related to the orientation of the robot to orient the robot to face the goal\n",
    "    \n",
    "    Arguments: Arguments: th_pos:    position of the Thymio \n",
    "               th_orient: orientation of the robot\n",
    "               goal_pos:  [X,y] coordinates of the goal\n",
    "               reset   : bool True if we want to reset the Integral error sum\n",
    "    \n",
    "    Return   : Speed increment to add/substract to the motors\n",
    "    \"\"\"\n",
    "    #precision factor by which we first multiply the errors to gain in precision as the speed has to be an integer \n",
    "    #and truncation may affect the results\n",
    "    PRECISION_FACTOR = 100\n",
    "    max_error_sum = 1\n",
    "    min_dist_to_goal = 10 #if we are next to the goal of 1 cm we do not update as we consider we are on the goal\n",
    "    \n",
    "    #we want to saturate the speed so we have a trapezoidal speed profile for smoothness of movement\n",
    "    max_speed = 80\n",
    "    Kp = 80\n",
    "    Ki = 5\n",
    "    \n",
    "    global angle_I_error\n",
    "    \n",
    "    if reset:\n",
    "        angle_I_error = 0\n",
    "    \n",
    "    #checking if we are on the gaol pos\n",
    "    dist = math.sqrt((tm_pos[0]-goal_pos[0])**2+(tm_pos[1]-goal_pos[1])**2)\n",
    "    \n",
    "    if dist < min_dist_to_goal:\n",
    "        return 0\n",
    "    \n",
    "    error = get_angle_goal_thymio(tm_pos, tm_orient, goal_pos)\n",
    "    #print(\"error\")\n",
    "    #print(error)\n",
    "    angle_I_error += error\n",
    "    \n",
    "     #antireset windup\n",
    "    if angle_I_error > max_error_sum:\n",
    "        angle_I_error = max_error_sum\n",
    "        \n",
    "    if angle_I_error < -max_error_sum:\n",
    "        angle_I_error = -max_error_sum\n",
    "    \n",
    "    #print(\"int error\")\n",
    "    #print(angle_I_error)\n",
    "    \n",
    "    speed_angle = int(((Kp*error+Ki*angle_I_error)))\n",
    "    #print(\"speed_angle\")\n",
    "    #print(speed_angle)\n",
    "    \n",
    "    if speed_angle > max_speed:\n",
    "        speed_angle = max_speed\n",
    "    if speed_angle < -max_speed:\n",
    "        speed_amgle = -max_speed\n",
    "    \n",
    "    return speed_angle"
   ]
  },
  {
   "cell_type": "code",
   "execution_count": 11,
   "id": "c99a81e6",
   "metadata": {
    "ExecuteTime": {
     "end_time": "2021-12-09T16:22:09.341242Z",
     "start_time": "2021-12-09T16:22:09.313153Z"
    },
    "code_folding": [
     1
    ]
   },
   "outputs": [],
   "source": [
    "dist_error_sum = 0\n",
    "def distance_PI(tm_pos, tm_orient, goal_pos, reset):\n",
    "    \"\"\"\n",
    "      This function returns the speed associated to the displacement of the robot so that it reaches the goal position\n",
    "        \n",
    "    \n",
    "    Arguments: Arguments: th_pos:    position of the Thymio \n",
    "               th_orient: orientation of the robot\n",
    "               goal_pos:  [X,y] coordinates of the goal\n",
    "               reset   : bool True if we want to reset the Integral error sum\n",
    "    \n",
    "    Return   : Speed increment add to both motors\n",
    "    \"\"\"\n",
    "    Max_dist_error = 20\n",
    "    SCALING_FACTOR = 10\n",
    "    max_speed = 150 #doesn't allow a speed larger than this value so that the dynamic is homogenous (speed doesn't linearly\n",
    "                    #decrease until we are close to the goal)\n",
    "    \n",
    "    min_dist_to_goal = 0 #if we are next to the goal of 1 cm we do not update as we consider we are on the goal\n",
    "    \n",
    "    global dist_error_sum\n",
    "    \n",
    "    if reset:\n",
    "        dist_error_sum = 0\n",
    "        \n",
    "    dispacement_speed = 0\n",
    "    Kp = 20\n",
    "    Ki = 4\n",
    "    \n",
    "    #compute the distance\n",
    "    \n",
    "    dist = math.sqrt((tm_pos[0]-goal_pos[0])**2+(tm_pos[1]-goal_pos[1])**2)\n",
    "    if dist <  min_dist_to_goal:\n",
    "        dist = 0\n",
    "    \n",
    "    #if the Thymio orientation is too far from facing the goal, we first reorient the robot until it faces the goal => \n",
    "    #no displacement speed\n",
    "    Phi = get_angle_goal_thymio(tm_pos,tm_orient, goal_pos)\n",
    "    if Phi> math.pi/2 or Phi <-math.pi/2:\n",
    "        displacement_speed = 0\n",
    "    else:\n",
    "        dist_error_sum += dist\n",
    "        \n",
    "        #antireset windup\n",
    "        if dist_error_sum > Max_dist_error:\n",
    "            dist_error_sum = Max_dist_error\n",
    "        if dist_error_sum < -Max_dist_error:\n",
    "            dist_error_sum = -Max_dist_error\n",
    "        \n",
    "        displacement_speed = int((dist*Kp+Ki*dist_error_sum)//SCALING_FACTOR)\n",
    "        \n",
    "        #saturates the speed if needed\n",
    "        if displacement_speed > max_speed:\n",
    "            displacement_speed = max_speed\n",
    "        if displacement_speed < -max_speed:\n",
    "            displacement_speed = -max_speed\n",
    "    \n",
    "    return displacement_speed\n",
    "    "
   ]
  },
  {
   "cell_type": "markdown",
   "id": "e4401073",
   "metadata": {},
   "source": [
    "# Main\n",
    "This is the core part of the code calling all the apropriate functions"
   ]
  },
  {
   "cell_type": "code",
   "execution_count": 12,
   "id": "33ef074f",
   "metadata": {
    "ExecuteTime": {
     "end_time": "2021-12-09T16:22:11.925442Z",
     "start_time": "2021-12-09T16:22:10.304727Z"
    }
   },
   "outputs": [],
   "source": [
    "import tdmclient.notebook\n",
    "await tdmclient.notebook.start()"
   ]
  },
  {
   "cell_type": "code",
   "execution_count": 17,
   "id": "587d61d7",
   "metadata": {
    "ExecuteTime": {
     "end_time": "2021-12-09T16:25:43.942059Z",
     "start_time": "2021-12-09T16:25:23.414854Z"
    }
   },
   "outputs": [
    {
     "name": "stdout",
     "output_type": "stream",
     "text": [
      "GLOBAL\n",
      "Go_left\n",
      "False\n",
      "LOCAL\n",
      "GLOBAL\n"
     ]
    },
    {
     "data": {
      "image/png": "[encoded data removed]",
      "text/plain": [
       "<Figure size 936x648 with 1 Axes>"
      ]
     },
     "metadata": {
      "needs_background": "light"
     },
     "output_type": "display_data"
    }
   ],
   "source": [
    "#putting everything together\n",
    "#putting together functions\n",
    "obstacle = False\n",
    "ITER_PATH_FREE = 9 #number of iteration where the path to the goal is free before we stop following the obstacle\n",
    "dist_thresh = 20\n",
    "#States of the robot\n",
    "STATE_GLOBAL_NAV = 0\n",
    "STATE_LOCAL_NAV = 1\n",
    "\n",
    "#Threshold for obstacle detection\n",
    "THRESHOLD_PROX1 = 1700\n",
    "THRESHOLD_PROX2 = 1500\n",
    "THRESHOLD_PROX3 = 1500\n",
    "THRESHOLD_PROX0 = 2000\n",
    "THRESHOLD_PROX4 = 2000\n",
    "\n",
    "#refresh period\n",
    "dt = 0.3\n",
    "\n",
    "#initliasie the pose of the robot\n",
    "pose = Pose(500,500,0)\n",
    "pose.set_coords(500, 500, 0.00)\n",
    "\n",
    "robot_state = STATE_GLOBAL_NAV\n",
    "\n",
    "#objective\n",
    "goal = [1300, 500]\n",
    "coords = pose.get_coords()\n",
    "dist_to_goal = math.sqrt((coords['x']-goal[0])**2+(coords['y']-goal[1])**2)\n",
    "\n",
    "#initialize variable for the loop\n",
    "go_left = True\n",
    "reset_glob_regulator = True\n",
    "reset_local_regulator = True\n",
    "speeds_robot = [0, 0]\n",
    "obstacle = False\n",
    "\n",
    "#counters used to determine if we must reset the PID controllers (integrator terms and derivatives)\n",
    "local_nav_iter = 1\n",
    "global_nav_iter = 1\n",
    "#for local navigation counts how many consecutive iteration the path is free (used to go back to global nav)\n",
    "free_path_iter = 0 \n",
    "while dist_to_goal > 20:\n",
    "    \n",
    "    \n",
    "    if robot_state == STATE_GLOBAL_NAV:\n",
    "        \n",
    "        \n",
    "        if global_nav_iter > 1:\n",
    "            reset_glob_regulator = False\n",
    "        else:\n",
    "            print(\"GLOBAL\")\n",
    "            leds_circle[3] = 25\n",
    "            leds_circle[1] = 0\n",
    "\n",
    "        global_nav_iter += 1\n",
    "        \n",
    "        prox = prox_horizontal\n",
    "    \n",
    "        obstacle = obstacle or obstacle_detected(prox[2], THRESHOLD_PROX2)\n",
    "        obstacle = obstacle or obstacle_detected(prox[1], THRESHOLD_PROX1)\n",
    "        obstacle = obstacle or obstacle_detected(prox[3], THRESHOLD_PROX3)\n",
    "        obstacle = obstacle or obstacle_detected(prox[0], THRESHOLD_PROX0)\n",
    "        obstacle = obstacle or obstacle_detected(prox[4], THRESHOLD_PROX4)\n",
    "        \n",
    "        speed_theta = angle_PI([coords['x'],coords['y']], coords['theta'], goal, reset_glob_regulator)\n",
    "        speed_disp = distance_PI([coords['x'],coords['y']], coords['theta'], goal, reset_glob_regulator)\n",
    "        \n",
    "        speeds_robot = [speed_disp+speed_theta, speed_disp-speed_theta]\n",
    "        \n",
    "        if obstacle:\n",
    "            robot_state = STATE_LOCAL_NAV\n",
    "            coords = pose.get_coords()\n",
    "            Go_left = choose_direction(prox, goal, (coords['x'],coords['y']), coords['theta'])\n",
    "            print(\"Go_left\")\n",
    "            print(Go_left)\n",
    "            reset_local_regulator = True\n",
    "            local_nav_iter = 1\n",
    "            free_path_iter = 0\n",
    "            \n",
    "            \n",
    "    elif robot_state == STATE_LOCAL_NAV:\n",
    "        \n",
    "        prox = prox_horizontal\n",
    "        \n",
    "        if local_nav_iter > 1:\n",
    "            reset_local_regulator = False\n",
    "        else:\n",
    "            print(\"LOCAL\")\n",
    "            leds_circle[3] = 0\n",
    "            leds_circle[1] = 25\n",
    "\n",
    "            \n",
    "        local_nav_iter += 1\n",
    "        \n",
    "        if Go_left:\n",
    "        #if turn left obstacle is on the rigth\n",
    "            speeds = right_obst_follow(reset_local_regulator)\n",
    "            speeds_robot = [speeds[1], speeds[0]]\n",
    "        \n",
    "        \n",
    "        else:\n",
    "            speeds = left_obst_follow(reset_local_regulator)\n",
    "            speeds_robot = [speeds[1], speeds[0]]\n",
    "    \n",
    "  \n",
    "        coords = pose.get_coords()\n",
    "    \n",
    "        if path_to_goal_free(coords['theta'], (coords['x'],coords['y']), goal ,prox):\n",
    "            free_path_iter += 1\n",
    "            if free_path_iter > ITER_PATH_FREE:\n",
    "                    robot_state = STATE_GLOBAL_NAV\n",
    "                    global_nav_iter = 1\n",
    "                    reset_glob_regulator = True\n",
    "                    obstacle = False\n",
    "                    \n",
    "                    \n",
    "        else:\n",
    "            free_path_iter = 0\n",
    "        \n",
    "    \n",
    "    motor_left_target = speeds_robot[0]\n",
    "    motor_right_target = speeds_robot[1]\n",
    "    prox_grnd = prox_ground_delta\n",
    "    speeds_meas = [motor_left_speed,motor_right_speed]\n",
    "    sleep(dt)\n",
    "    pose.update(speed=speeds_meas, prox=prox_grnd, dt=dt, myMap = myMap)\n",
    "    coords = pose.get_coords()\n",
    "    dist_to_goal = math.sqrt((coords['x']-goal[0])**2+(coords['y']-goal[1])**2)\n",
    "        \n",
    "\n",
    "sleep(dt)\n",
    "motor_left_target = 0\n",
    "motor_right_target = 0\n",
    "pose.plot()\n"
   ]
  },
  {
   "cell_type": "code",
   "execution_count": 14,
   "id": "51d36845",
   "metadata": {
    "ExecuteTime": {
     "end_time": "2021-12-09T16:22:30.397559Z",
     "start_time": "2021-12-09T16:22:30.221099Z"
    }
   },
   "outputs": [],
   "source": [
    "motor_left_target = 0"
   ]
  },
  {
   "cell_type": "code",
   "execution_count": 15,
   "id": "325dfc96",
   "metadata": {
    "ExecuteTime": {
     "end_time": "2021-12-09T16:22:38.337850Z",
     "start_time": "2021-12-09T16:22:38.262370Z"
    }
   },
   "outputs": [],
   "source": [
    "motor_right_target = 0"
   ]
  },
  {
   "cell_type": "code",
   "execution_count": null,
   "id": "f4c27396",
   "metadata": {},
   "outputs": [],
   "source": []
  }
 ],
 "metadata": {
  "hide_input": false,
  "kernelspec": {
   "display_name": "Python 3 (ipykernel)",
   "language": "python",
   "name": "python3"
  },
  "language_info": {
   "codemirror_mode": {
    "name": "ipython",
    "version": 3
   },
   "file_extension": ".py",
   "mimetype": "text/x-python",
   "name": "python",
   "nbconvert_exporter": "python",
   "pygments_lexer": "ipython3",
   "version": "3.9.7"
  },
  "toc": {
   "base_numbering": 1,
   "nav_menu": {},
   "number_sections": true,
   "sideBar": true,
   "skip_h1_title": false,
   "title_cell": "Table of Contents",
   "title_sidebar": "Contents",
   "toc_cell": false,
   "toc_position": {},
   "toc_section_display": true,
   "toc_window_display": false
  }
 },
 "nbformat": 4,
 "nbformat_minor": 5
}
