{
 "cells": [
  {
   "cell_type": "code",
   "execution_count": 7,
   "id": "a13b9f03-6590-4fe6-855b-48ce942000a4",
   "metadata": {},
   "outputs": [],
   "source": [
    "#load all the functions from other scripts\n",
    "%run IP/IP_methods.ipynb #Image processing script\n",
    "\n"
   ]
  },
  {
   "cell_type": "code",
   "execution_count": 8,
   "id": "423de0b6-541e-4fe1-a383-ed65c12281a6",
   "metadata": {},
   "outputs": [],
   "source": [
    "#different path usefull locations\n",
    "Path_to_MAP = 'output'"
   ]
  },
  {
   "cell_type": "code",
   "execution_count": 12,
   "id": "ed2df147-1c25-452c-aa8e-4ade00c460fa",
   "metadata": {},
   "outputs": [
    {
     "name": "stdout",
     "output_type": "stream",
     "text": [
      "WARNING: template not detected\n"
     ]
    }
   ],
   "source": [
    "(x,y), orientation = pipeline_IP(plot = False)"
   ]
  },
  {
   "cell_type": "code",
   "execution_count": null,
   "id": "5fe16a83-a1e4-4fd0-8ec3-f761c68093ba",
   "metadata": {},
   "outputs": [],
   "source": [
    "\n"
   ]
  },
  {
   "cell_type": "code",
   "execution_count": null,
   "id": "e17f0097-5fcf-4905-b8f1-956dafdf5bce",
   "metadata": {},
   "outputs": [],
   "source": []
  }
 ],
 "metadata": {
  "kernelspec": {
   "display_name": "Python 3",
   "language": "python",
   "name": "python3"
  },
  "language_info": {
   "codemirror_mode": {
    "name": "ipython",
    "version": 3
   },
   "file_extension": ".py",
   "mimetype": "text/x-python",
   "name": "python",
   "nbconvert_exporter": "python",
   "pygments_lexer": "ipython3",
   "version": "3.8.10"
  }
 },
 "nbformat": 4,
 "nbformat_minor": 5
}
