{
 "cells": [
  {
   "cell_type": "markdown",
   "id": "94c3fa56-c17d-4aaa-a9cc-f80203684f27",
   "metadata": {},
   "source": [
    "# importing functions"
   ]
  },
  {
   "cell_type": "code",
   "execution_count": 172,
   "id": "482c2fc5-b974-4bf7-b07e-786f78be691f",
   "metadata": {},
   "outputs": [],
   "source": [
    "import random\n",
    "from itertools import count\n",
    "from matplotlib.animation import FuncAnimation\n",
    "import time\n",
    "import matplotlib.pyplot as plt\n",
    "import follow_road\n",
    "\n",
    "%run localisation.ipynb\n",
    "%run follow_road.py"
   ]
  },
  {
   "cell_type": "code",
   "execution_count": 118,
   "id": "a3b81920-af5a-431b-8a6f-0bd685f5442e",
   "metadata": {},
   "outputs": [],
   "source": [
    "# Import tdmclient Notebook environment:\n",
    "import tdmclient.notebook"
   ]
  },
  {
   "cell_type": "code",
   "execution_count": 119,
   "id": "3afcf3fc-93b0-474d-a3fa-2afa848e247c",
   "metadata": {},
   "outputs": [],
   "source": [
    "await tdmclient.notebook.start()"
   ]
  },
  {
   "cell_type": "code",
   "execution_count": null,
   "id": "8138071b-ca2c-4df7-9827-d3efad944ea9",
   "metadata": {},
   "outputs": [],
   "source": [
    "await tdmclient.notebook.stop()"
   ]
  },
  {
   "cell_type": "code",
   "execution_count": 120,
   "id": "8da79bb2-e6f8-4463-830d-ac33454dfda2",
   "metadata": {},
   "outputs": [],
   "source": [
    "S=[0,0,0]"
   ]
  },
  {
   "cell_type": "code",
   "execution_count": 121,
   "id": "6b45cbed-d96d-4df4-9da8-58735a1641d0",
   "metadata": {},
   "outputs": [
    {
     "data": {
      "text/plain": [
       "[250.0, 0.0, 0.0]"
      ]
     },
     "execution_count": 121,
     "metadata": {},
     "output_type": "execute_result"
    }
   ],
   "source": [
    "kinematics2(S,50,50,1000)"
   ]
  },
  {
   "cell_type": "code",
   "execution_count": 122,
   "id": "e52a2fec-08f6-4933-aa5c-fa23b62132d3",
   "metadata": {},
   "outputs": [],
   "source": [
    "traj=square=([[  0 , 10],\n",
    " [-10 ,  0],\n",
    " [  0, -10],\n",
    " [ 10 ,  0]])"
   ]
  },
  {
   "cell_type": "code",
   "execution_count": 123,
   "id": "7ab005da-e566-4f28-b80b-de145b007a83",
   "metadata": {},
   "outputs": [
    {
     "data": {
      "text/plain": [
       "[[0, 10], [-10, 0], [0, -10], [10, 0]]"
      ]
     },
     "execution_count": 123,
     "metadata": {},
     "output_type": "execute_result"
    }
   ],
   "source": [
    "square"
   ]
  },
  {
   "cell_type": "code",
   "execution_count": 124,
   "id": "90433574-d4fb-48fd-a3e1-f1edfc179143",
   "metadata": {},
   "outputs": [],
   "source": [
    "square.append(square[0])"
   ]
  },
  {
   "cell_type": "markdown",
   "id": "67acae98-07fe-4e17-96c3-de084aa1ce35",
   "metadata": {},
   "source": [
    "# Graphical functions"
   ]
  },
  {
   "cell_type": "code",
   "execution_count": 127,
   "id": "5f7174cf-b096-4a08-a2cb-2c6bd1f296f5",
   "metadata": {
    "tags": []
   },
   "outputs": [
    {
     "name": "stdout",
     "output_type": "stream",
     "text": [
      "Unchecked Starred(value=Name(id='traj', ctx=Load()), ctx=Load())\n"
     ]
    }
   ],
   "source": [
    "def draw_trajectory(traj) :\n",
    "    #fig=plt.figure()\n",
    "    #ax1=fig.add_subplot(111)\n",
    "    #ax2=fig.add_subplot(221)\n",
    "    xs, ys = zip(*traj)\n",
    "    plt.plot(xs,ys)\n",
    "    #ax1.set_aspect('equal')\n",
    "    return"
   ]
  },
  {
   "cell_type": "code",
   "execution_count": 128,
   "id": "00234c78-3261-46d8-9098-ba58a875bce9",
   "metadata": {},
   "outputs": [
    {
     "name": "stdout",
     "output_type": "stream",
     "text": [
      "Unchecked Starred(value=Name(id='thymio_shape', ctx=Load()), ctx=Load())\n"
     ]
    }
   ],
   "source": [
    "def draw_thymio(pose) :\n",
    "    move=pose[0:2]\n",
    "    angle=pose[2]-math.pi/2\n",
    "    thymio_shape=[[-0.5,-0.5],[0.5,-0.5],[0.5,0.25],[0,0.75],[-0.5,0.25]]\n",
    "    \n",
    "    thymio_shape.append(thymio_shape[0]) #repeat the first point to create a 'closed loop'\n",
    "    rot=np.array([[np.cos(angle) , -np.sin(angle)],[np.sin(angle),np.cos(angle)]])\n",
    "    thymio_shape=(np.transpose((np.matmul(rot,np.transpose(100*np.array(thymio_shape))))))\n",
    "    thymio_shape+=[move,move,move,move,move,move]\n",
    "    xs, ys = zip(*thymio_shape) #create lists of x and y values\n",
    "    fig=plt.figure(figsize=(8, 8), dpi=80)\n",
    "\n",
    "    ax = fig.add_subplot(111)\n",
    "    ax.set_aspect('equal')\n",
    "\n",
    "    plt.xlim((-1000,1000))\n",
    "    plt.ylim((-1000,1000))\n",
    "    plt.plot(xs,ys)\n",
    "    return thymio_shape"
   ]
  },
  {
   "cell_type": "code",
   "execution_count": 129,
   "id": "532ca162-ca98-4029-93cb-adb13b828578",
   "metadata": {},
   "outputs": [],
   "source": [
    "def draw_now(pose,traj) :\n",
    "    draw_thymio(pose)\n",
    "    draw_trajectory(traj)\n",
    "    plt.show()\n",
    "    return\n"
   ]
  },
  {
   "cell_type": "code",
   "execution_count": 130,
   "id": "9606b119-a08b-44c2-963b-36a83dd1df05",
   "metadata": {},
   "outputs": [
    {
     "data": {
      "image/png": "[encoded data removed]",
      "text/plain": [
       "<Figure size 640x640 with 1 Axes>"
      ]
     },
     "metadata": {
      "needs_background": "light"
     },
     "output_type": "display_data"
    }
   ],
   "source": [
    "draw_now(S,trajnp)"
   ]
  },
  {
   "cell_type": "code",
   "execution_count": 131,
   "id": "1e547bee-653d-408f-a163-8efda9f9b70c",
   "metadata": {},
   "outputs": [
    {
     "data": {
      "image/png": "[encoded data removed]",
      "text/plain": [
       "<Figure size 640x640 with 1 Axes>"
      ]
     },
     "metadata": {
      "needs_background": "light"
     },
     "output_type": "display_data"
    },
    {
     "data": {
      "text/plain": [
       "array([[-5.0000000e+01,  5.0000000e+01],\n",
       "       [-5.0000000e+01, -5.0000000e+01],\n",
       "       [ 2.5000000e+01, -5.0000000e+01],\n",
       "       [ 7.5000000e+01,  4.5924255e-15],\n",
       "       [ 2.5000000e+01,  5.0000000e+01],\n",
       "       [-5.0000000e+01,  5.0000000e+01]])"
      ]
     },
     "execution_count": 131,
     "metadata": {},
     "output_type": "execute_result"
    }
   ],
   "source": [
    "thymio_shape=draw_thymio([0,0,0])\n",
    "draw_trajectory(trajnp)\n",
    "plt.show()\n",
    "thymio_shape"
   ]
  },
  {
   "cell_type": "markdown",
   "id": "5b77af6b-d0ca-42c6-8cbc-6f519dd01378",
   "metadata": {},
   "source": [
    "# stop and turn approach"
   ]
  },
  {
   "cell_type": "code",
   "execution_count": 159,
   "id": "61e614c6-7caa-44e8-9780-b184dc6f1757",
   "metadata": {},
   "outputs": [],
   "source": [
    "def inverse_kin(pose,obj) :\n",
    "    global motor_left_target, motor_right_target\n",
    "    angle_thres=math.pi/12\n",
    "    angle=theta_des(pose,obj)\n",
    "    error=angle-pose[2]\n",
    "    if error>math.pi : \n",
    "        error-=2*math.pi\n",
    "    if error< -(math.pi) :\n",
    "        error+=2*math.pi\n",
    "    speed=200\n",
    "    coeff=100*5/math.pi # experimental value : half a turn with speed=100 takes 5 seconds\n",
    "    t=abs(error)/speed*coeff\n",
    "    \n",
    "    vl=-np.sign(error)*speed\n",
    "    vr=-vl\n",
    "    motor_left_target = int(vl)\n",
    "    motor_right_target = int(vr)\n",
    "    \n",
    "    time.sleep(2.5)\n",
    "    \n",
    "    motor_left_target = 0\n",
    "    motor_right_target = 0\n",
    "    return [vl,vr,t]\n",
    "    "
   ]
  },
  {
   "cell_type": "code",
   "execution_count": 210,
   "id": "a28c94e2-234c-458a-a277-92206c7fa593",
   "metadata": {},
   "outputs": [
    {
     "name": "stdout",
     "output_type": "stream",
     "text": [
      "[-200.0, 200.0, 1.2500000000000002]\n"
     ]
    },
    {
     "data": {
      "image/png": "[encoded data removed]",
      "text/plain": [
       "<Figure size 640x640 with 1 Axes>"
      ]
     },
     "metadata": {
      "needs_background": "light"
     },
     "output_type": "display_data"
    },
    {
     "data": {
      "image/png": "[encoded data removed]",
      "text/plain": [
       "<Figure size 640x640 with 1 Axes>"
      ]
     },
     "metadata": {
      "needs_background": "light"
     },
     "output_type": "display_data"
    }
   ],
   "source": [
    "pose=[0,0,0]\n",
    "draw_thymio(pose)\n",
    "vl=vr=0\n",
    "next_point=[0,500]\n",
    "\n",
    "[vl,vr,dt]=inverse_kin(pose,next_point)\n",
    "pose=kinematics2(pose,vl,vr,dt*1000)\n",
    "draw_thymio(pose)\n",
    "print([vl,vr,dt])"
   ]
  },
  {
   "cell_type": "code",
   "execution_count": 211,
   "id": "d31a149b-7a6e-4acb-902c-60990f985a25",
   "metadata": {},
   "outputs": [],
   "source": [
    "motor_left_target = int(vl)\n",
    "motor_right_target = int(vr)\n",
    "sleep(dt)\n",
    "    \n",
    "motor_left_target = 300\n",
    "motor_right_target = 300\n",
    "sleep(2)\n",
    "motor_left_target = 0\n",
    "motor_right_target = 0"
   ]
  },
  {
   "cell_type": "code",
   "execution_count": null,
   "id": "fd02a240-dced-49c3-9182-671261849922",
   "metadata": {},
   "outputs": [],
   "source": [
    "t=float(0.5)\n",
    "if 1 :\n",
    "    motor_left_target = -100\n",
    "    motor_right_target = 100\n",
    "sleep(t)\n",
    "motor_left_target = 100\n",
    "motor_right_target = -100\n",
    "sleep(t)\n",
    "motor_left_target = 0\n",
    "motor_right_target = 0"
   ]
  },
  {
   "cell_type": "code",
   "execution_count": 209,
   "id": "ff5f87b6-2db2-47fc-ac72-eb3bb11c2bbc",
   "metadata": {},
   "outputs": [],
   "source": [
    "motor_left_target = 0\n",
    "motor_right_target = 0"
   ]
  },
  {
   "cell_type": "markdown",
   "id": "29af019a-748a-40fd-b8d8-1d6d31f176e2",
   "metadata": {},
   "source": [
    "# PID controller"
   ]
  },
  {
   "cell_type": "code",
   "execution_count": 135,
   "id": "40908fc9-5542-4ffd-b1c4-6e4037a480a9",
   "metadata": {},
   "outputs": [
    {
     "data": {
      "text/plain": [
       "array([[   0,  500],\n",
       "       [-500,    0],\n",
       "       [   0, -500],\n",
       "       [ 500,    0],\n",
       "       [   0,  500]])"
      ]
     },
     "execution_count": 135,
     "metadata": {},
     "output_type": "execute_result"
    }
   ],
   "source": [
    "traj[0]\n",
    "trajnp=50*np.array(traj)\n",
    "trajnp"
   ]
  },
  {
   "cell_type": "code",
   "execution_count": 218,
   "id": "69f1fbe9-b481-4bda-aa5d-7973f2046a1b",
   "metadata": {},
   "outputs": [],
   "source": [
    "def PID(e,ediff,eint) :\n",
    "\n",
    "    Kp=12\n",
    "    Ki=0.05\n",
    "    Kd=0\n",
    "    correction=Kp*e+Ki*eint+Kd*ediff\n",
    "    return correction\n",
    "\n",
    "def theta_des(pos,obj) :\n",
    "    '''\n",
    "    orientation desired to face towards the goal\n",
    "    \n",
    "    '''\n",
    "    return math.atan2(obj[1]-pos[1],obj[0]-pos[0])\n",
    "\n",
    "def speed_des(pos,obj) :\n",
    "    '''\n",
    "    straight line speed desired, constant component + variable \n",
    "    component depending on distance to next point\n",
    "    '''\n",
    "    vbase=100\n",
    "    coeff=0.5 # weight of variable component\n",
    "    return vbase+coeff*math.sqrt((obj[1]-pos[1])**2+(obj[0]-pos[0])**2)\n",
    "\n",
    "def wheel_inputs(omega,v) :\n",
    "    '''\n",
    "    calculates the motor speeds for the robot\n",
    "    \n",
    "    Arguments:\n",
    "        - omega: correction, output of the PID\n",
    "        - v: desired straight line speed\n",
    "    Outputs:\n",
    "        - [vl,vr]: left and right motor speeds \n",
    "    \n",
    "    '''\n",
    "    R=20 #wheel radius in [mm]\n",
    "    L=95 #distance between wheels in [mm]\n",
    "    vl=5*(2*v-omega*L)/(2*R) #left motor speed\n",
    "    vr=5*(2*v+omega*L)/(2*R) #right motor speed\n",
    "    \n",
    "    #### setting lower and upper bounds ####\n",
    "    if vr<0 :\n",
    "        vr=max(-300,vr)\n",
    "    else :\n",
    "        vr=min(300,vr)\n",
    "        \n",
    "    if vl<0 :\n",
    "        vl=max(-300,vl)\n",
    "    else :\n",
    "        vl=min(300,vl)\n",
    "\n",
    "    \n",
    "    return [int(vl),int(vr)]\n",
    "\n",
    "def compute_error(pose,obj) : \n",
    "    angle=theta_des(pose,obj)\n",
    "    error=angle-pose[2]\n",
    "    if error>math.pi : \n",
    "        error-=2*math.pi\n",
    "    if error< -(math.pi) :\n",
    "        error+=2*math.pi\n",
    "    return error"
   ]
  },
  {
   "cell_type": "code",
   "execution_count": 225,
   "id": "4b63045e-a4c2-4476-9637-1b5fb284eba3",
   "metadata": {},
   "outputs": [],
   "source": [
    "def follow_path(pose,traj) :\n",
    "    # following the path\n",
    "    # initialisation \n",
    "    dt=100 # control period\n",
    "    pose=[200,200,-math.pi/2] #initial pose\n",
    "    myPose=Pose(pose)\n",
    "    vl=vr=0\n",
    "    nx_pt_id=0 # index of the next point to attain in the trajectory, set as 0 to start\n",
    "    next_point=trajnp[nx_pt_id]\n",
    "    prev_error=0 \n",
    "    e_int=0\n",
    "    distance_to_goal=dist(pose)\n",
    "    iter=0\n",
    "\n",
    "    while distance_to_goal > 5 and nx_pt_id<len(traj)-1 : # main control loop\n",
    "        \n",
    "        ########     get position    #######\n",
    "        \n",
    "        #pose=kinematics2(pose,vl,vr,dt)\n",
    "        mypose.update([vl,vr],prox_ground_reflected,dt,myMap)\n",
    "        pose=list(myPose.get_coords().values()) #pose in list form for low level functions\n",
    "        #angle=theta_des(pose,next_point)\n",
    "        v=speed_des(pose,next_point) \n",
    "        \n",
    "        \n",
    "        ########    call pid   ##########\n",
    "        error=compute_error(pose,next_point)\n",
    "        e_diff=(error-prev_error)/dt\n",
    "        e_int+=error\n",
    "        omega=PID(error,e_diff,e_int)\n",
    "\n",
    "        #######  set wheel speeds    #######\n",
    "        [vl,vr]=wheel_inputs(omega,v)\n",
    "        motor_left_target = vl\n",
    "        motor_right_target = vr\n",
    "        sleep(dt/1000) # control period in [s]\n",
    "        \n",
    "\n",
    "        ##### update next point ######\n",
    "        if dist(pose,next_point) < 5 : \n",
    "            nx_pt_id+=1\n",
    "            next_point=trajnp[nx_pt_id]\n",
    "\n",
    "        #####  update distance to final point  #####\n",
    "        distance_to_goal=dist(pose,trajnp[-2]) \n",
    "\n",
    "\n",
    "        #####    graph  ####\n",
    "        if iter % 20 ==0 : \n",
    "            print (myPose.get_coords())\n",
    "            print(error,e_diff,e_int)\n",
    "            print([vl,vr])\n",
    "            print(distance_to_goal)\n",
    "\n",
    "            draw_now(pose,trajnp)\n",
    "\n",
    "    \n",
    "        iter+=1\n",
    "\n",
    "    return"
   ]
  },
  {
   "cell_type": "code",
   "execution_count": 226,
   "id": "bc7ae103-2a3e-4b7f-a9b6-666d2eefaa5a",
   "metadata": {},
   "outputs": [
    {
     "name": "stdout",
     "output_type": "stream",
     "text": [
      "Error in callback <function _post_run_cell at 0x7f9ba8607790> (for post_run_cell):\n"
     ]
    },
    {
     "ename": "BrokenPipeError",
     "evalue": "[Errno 32] Broken pipe",
     "output_type": "error",
     "traceback": [
      "\u001b[0;31m---------------------------------------------------------------------------\u001b[0m",
      "\u001b[0;31mBrokenPipeError\u001b[0m                           Traceback (most recent call last)",
      "\u001b[0;32m~/opt/anaconda3/lib/python3.8/site-packages/tdmclient/notebook/__init__.py\u001b[0m in \u001b[0;36m_post_run_cell\u001b[0;34m(_)\u001b[0m\n\u001b[1;32m     12\u001b[0m \u001b[0;34m\u001b[0m\u001b[0m\n\u001b[1;32m     13\u001b[0m \u001b[0;32mdef\u001b[0m \u001b[0m_post_run_cell\u001b[0m\u001b[0;34m(\u001b[0m\u001b[0m_\u001b[0m\u001b[0;34m)\u001b[0m\u001b[0;34m:\u001b[0m\u001b[0;34m\u001b[0m\u001b[0;34m\u001b[0m\u001b[0m\n\u001b[0;32m---> 14\u001b[0;31m     \u001b[0m_interactive_console\u001b[0m\u001b[0;34m.\u001b[0m\u001b[0mpost_run\u001b[0m\u001b[0;34m(\u001b[0m\u001b[0;34m)\u001b[0m\u001b[0;34m\u001b[0m\u001b[0;34m\u001b[0m\u001b[0m\n\u001b[0m\u001b[1;32m     15\u001b[0m \u001b[0;34m\u001b[0m\u001b[0m\n\u001b[1;32m     16\u001b[0m \u001b[0;32masync\u001b[0m \u001b[0;32mdef\u001b[0m \u001b[0mget_nodes\u001b[0m\u001b[0;34m(\u001b[0m\u001b[0mtdm_addr\u001b[0m\u001b[0;34m=\u001b[0m\u001b[0;32mNone\u001b[0m\u001b[0;34m,\u001b[0m \u001b[0mtdm_port\u001b[0m\u001b[0;34m=\u001b[0m\u001b[0;32mNone\u001b[0m\u001b[0;34m,\u001b[0m \u001b[0mrobot_id\u001b[0m\u001b[0;34m=\u001b[0m\u001b[0;32mNone\u001b[0m\u001b[0;34m,\u001b[0m \u001b[0mrobot_name\u001b[0m\u001b[0;34m=\u001b[0m\u001b[0;32mNone\u001b[0m\u001b[0;34m)\u001b[0m\u001b[0;34m:\u001b[0m\u001b[0;34m\u001b[0m\u001b[0;34m\u001b[0m\u001b[0m\n",
      "\u001b[0;32m~/opt/anaconda3/lib/python3.8/site-packages/tdmclient/repl.py\u001b[0m in \u001b[0;36mpost_run\u001b[0;34m(self)\u001b[0m\n\u001b[1;32m    697\u001b[0m         \u001b[0;32mwith\u001b[0m \u001b[0;32mor\u001b[0m \u001b[0mwithout\u001b[0m \u001b[0merror\u001b[0m\u001b[0;34m.\u001b[0m\u001b[0;34m\u001b[0m\u001b[0;34m\u001b[0m\u001b[0m\n\u001b[1;32m    698\u001b[0m         \"\"\"\n\u001b[0;32m--> 699\u001b[0;31m         \u001b[0mself\u001b[0m\u001b[0;34m.\u001b[0m\u001b[0msend_variables\u001b[0m\u001b[0;34m(\u001b[0m\u001b[0mself\u001b[0m\u001b[0;34m.\u001b[0m\u001b[0mvar_set\u001b[0m\u001b[0;34m)\u001b[0m\u001b[0;34m\u001b[0m\u001b[0;34m\u001b[0m\u001b[0m\n\u001b[0m\u001b[1;32m    700\u001b[0m         \u001b[0;32mtry\u001b[0m\u001b[0;34m:\u001b[0m\u001b[0;34m\u001b[0m\u001b[0;34m\u001b[0m\u001b[0m\n\u001b[1;32m    701\u001b[0m             if (self.cmd_tree is not None and\n",
      "\u001b[0;32m~/opt/anaconda3/lib/python3.8/site-packages/tdmclient/repl.py\u001b[0m in \u001b[0;36msend_variables\u001b[0;34m(self, names_py, node_flush)\u001b[0m\n\u001b[1;32m    461\u001b[0m                 \u001b[0mself\u001b[0m\u001b[0;34m.\u001b[0m\u001b[0msend_variable\u001b[0m\u001b[0;34m(\u001b[0m\u001b[0mname_py\u001b[0m\u001b[0;34m,\u001b[0m \u001b[0mself\u001b[0m\u001b[0;34m.\u001b[0m\u001b[0mlocal_var\u001b[0m\u001b[0;34m[\u001b[0m\u001b[0mname_py\u001b[0m\u001b[0;34m]\u001b[0m\u001b[0;34m)\u001b[0m\u001b[0;34m\u001b[0m\u001b[0;34m\u001b[0m\u001b[0m\n\u001b[1;32m    462\u001b[0m             \u001b[0;32mif\u001b[0m \u001b[0mnode_flush\u001b[0m\u001b[0;34m:\u001b[0m\u001b[0;34m\u001b[0m\u001b[0;34m\u001b[0m\u001b[0m\n\u001b[0;32m--> 463\u001b[0;31m                 \u001b[0mself\u001b[0m\u001b[0;34m.\u001b[0m\u001b[0mflush_variables\u001b[0m\u001b[0;34m(\u001b[0m\u001b[0;34m)\u001b[0m\u001b[0;34m\u001b[0m\u001b[0;34m\u001b[0m\u001b[0m\n\u001b[0m\u001b[1;32m    464\u001b[0m \u001b[0;34m\u001b[0m\u001b[0m\n\u001b[1;32m    465\u001b[0m     \u001b[0;32mdef\u001b[0m \u001b[0mfind_global_var\u001b[0m\u001b[0;34m(\u001b[0m\u001b[0mself\u001b[0m\u001b[0;34m,\u001b[0m \u001b[0mnodes\u001b[0m\u001b[0;34m,\u001b[0m \u001b[0mglobals\u001b[0m\u001b[0;34m=\u001b[0m\u001b[0;32mNone\u001b[0m\u001b[0;34m)\u001b[0m\u001b[0;34m:\u001b[0m\u001b[0;34m\u001b[0m\u001b[0;34m\u001b[0m\u001b[0m\n",
      "\u001b[0;32m~/opt/anaconda3/lib/python3.8/site-packages/tdmclient/repl.py\u001b[0m in \u001b[0;36mflush_variables\u001b[0;34m(self)\u001b[0m\n\u001b[1;32m    454\u001b[0m \u001b[0;34m\u001b[0m\u001b[0m\n\u001b[1;32m    455\u001b[0m     \u001b[0;32mdef\u001b[0m \u001b[0mflush_variables\u001b[0m\u001b[0;34m(\u001b[0m\u001b[0mself\u001b[0m\u001b[0;34m)\u001b[0m\u001b[0;34m:\u001b[0m\u001b[0;34m\u001b[0m\u001b[0;34m\u001b[0m\u001b[0m\n\u001b[0;32m--> 456\u001b[0;31m         \u001b[0mself\u001b[0m\u001b[0;34m.\u001b[0m\u001b[0mnode\u001b[0m\u001b[0;34m.\u001b[0m\u001b[0mflush\u001b[0m\u001b[0;34m(\u001b[0m\u001b[0;34m)\u001b[0m\u001b[0;34m\u001b[0m\u001b[0;34m\u001b[0m\u001b[0m\n\u001b[0m\u001b[1;32m    457\u001b[0m \u001b[0;34m\u001b[0m\u001b[0m\n\u001b[1;32m    458\u001b[0m     \u001b[0;32mdef\u001b[0m \u001b[0msend_variables\u001b[0m\u001b[0;34m(\u001b[0m\u001b[0mself\u001b[0m\u001b[0;34m,\u001b[0m \u001b[0mnames_py\u001b[0m\u001b[0;34m,\u001b[0m \u001b[0mnode_flush\u001b[0m\u001b[0;34m=\u001b[0m\u001b[0;32mTrue\u001b[0m\u001b[0;34m)\u001b[0m\u001b[0;34m:\u001b[0m\u001b[0;34m\u001b[0m\u001b[0;34m\u001b[0m\u001b[0m\n",
      "\u001b[0;32m~/opt/anaconda3/lib/python3.8/site-packages/tdmclient/clientasynccachenode.py\u001b[0m in \u001b[0;36mflush\u001b[0;34m(self)\u001b[0m\n\u001b[1;32m    141\u001b[0m     \u001b[0;32mdef\u001b[0m \u001b[0mflush\u001b[0m\u001b[0;34m(\u001b[0m\u001b[0mself\u001b[0m\u001b[0;34m)\u001b[0m\u001b[0;34m:\u001b[0m\u001b[0;34m\u001b[0m\u001b[0;34m\u001b[0m\u001b[0m\n\u001b[1;32m    142\u001b[0m         \u001b[0;31m# send new variable values\u001b[0m\u001b[0;34m\u001b[0m\u001b[0;34m\u001b[0m\u001b[0;34m\u001b[0m\u001b[0m\n\u001b[0;32m--> 143\u001b[0;31m         \u001b[0mself\u001b[0m\u001b[0;34m.\u001b[0m\u001b[0msend_set_variables\u001b[0m\u001b[0;34m(\u001b[0m\u001b[0mself\u001b[0m\u001b[0;34m.\u001b[0m\u001b[0mvar_to_send\u001b[0m\u001b[0;34m)\u001b[0m\u001b[0;34m\u001b[0m\u001b[0;34m\u001b[0m\u001b[0m\n\u001b[0m\u001b[1;32m    144\u001b[0m         \u001b[0;31m# process waiting messages, possibly changing self.var\u001b[0m\u001b[0;34m\u001b[0m\u001b[0;34m\u001b[0m\u001b[0;34m\u001b[0m\u001b[0m\n\u001b[1;32m    145\u001b[0m         \u001b[0mself\u001b[0m\u001b[0;34m.\u001b[0m\u001b[0mthymio\u001b[0m\u001b[0;34m.\u001b[0m\u001b[0mprocess_waiting_messages\u001b[0m\u001b[0;34m(\u001b[0m\u001b[0;34m)\u001b[0m\u001b[0;34m\u001b[0m\u001b[0;34m\u001b[0m\u001b[0m\n",
      "\u001b[0;32m~/opt/anaconda3/lib/python3.8/site-packages/tdmclient/clientnode.py\u001b[0m in \u001b[0;36msend_set_variables\u001b[0;34m(self, var_dict, **kwargs)\u001b[0m\n\u001b[1;32m     69\u001b[0m         \u001b[0;32mif\u001b[0m \u001b[0mself\u001b[0m\u001b[0;34m.\u001b[0m\u001b[0mthymio\u001b[0m\u001b[0;34m.\u001b[0m\u001b[0mdebug\u001b[0m \u001b[0;34m>=\u001b[0m \u001b[0;36m1\u001b[0m\u001b[0;34m:\u001b[0m\u001b[0;34m\u001b[0m\u001b[0;34m\u001b[0m\u001b[0m\n\u001b[1;32m     70\u001b[0m             \u001b[0mprint\u001b[0m\u001b[0;34m(\u001b[0m\u001b[0;34mf\"send set variables for {self.id_str} {', '.join([f'{name}={var_dict[name]}' for name in var_dict])}\"\u001b[0m\u001b[0;34m)\u001b[0m\u001b[0;34m\u001b[0m\u001b[0;34m\u001b[0m\u001b[0m\n\u001b[0;32m---> 71\u001b[0;31m         \u001b[0mself\u001b[0m\u001b[0;34m.\u001b[0m\u001b[0mthymio\u001b[0m\u001b[0;34m.\u001b[0m\u001b[0msend_packet\u001b[0m\u001b[0;34m(\u001b[0m\u001b[0mself\u001b[0m\u001b[0;34m.\u001b[0m\u001b[0mcreate_msg_set_variables\u001b[0m\u001b[0;34m(\u001b[0m\u001b[0mvar_dict\u001b[0m\u001b[0;34m,\u001b[0m \u001b[0;34m**\u001b[0m\u001b[0mkwargs\u001b[0m\u001b[0;34m)\u001b[0m\u001b[0;34m)\u001b[0m\u001b[0;34m\u001b[0m\u001b[0;34m\u001b[0m\u001b[0m\n\u001b[0m",
      "\u001b[0;32m~/opt/anaconda3/lib/python3.8/site-packages/tdmclient/client.py\u001b[0m in \u001b[0;36msend_packet\u001b[0;34m(self, b, ignore_disconnected_error)\u001b[0m\n\u001b[1;32m     90\u001b[0m \u001b[0;34m\u001b[0m\u001b[0m\n\u001b[1;32m     91\u001b[0m         \u001b[0;32mtry\u001b[0m\u001b[0;34m:\u001b[0m\u001b[0;34m\u001b[0m\u001b[0;34m\u001b[0m\u001b[0m\n\u001b[0;32m---> 92\u001b[0;31m             \u001b[0mself\u001b[0m\u001b[0;34m.\u001b[0m\u001b[0mtdm\u001b[0m\u001b[0;34m.\u001b[0m\u001b[0msend_packet\u001b[0m\u001b[0;34m(\u001b[0m\u001b[0mb\u001b[0m\u001b[0;34m)\u001b[0m\u001b[0;34m\u001b[0m\u001b[0;34m\u001b[0m\u001b[0m\n\u001b[0m\u001b[1;32m     93\u001b[0m         \u001b[0;32mexcept\u001b[0m \u001b[0mSyntaxError\u001b[0m \u001b[0;32mas\u001b[0m \u001b[0merror\u001b[0m\u001b[0;34m:\u001b[0m\u001b[0;34m\u001b[0m\u001b[0;34m\u001b[0m\u001b[0m\n\u001b[1;32m     94\u001b[0m             \u001b[0;32mif\u001b[0m \u001b[0;32mnot\u001b[0m \u001b[0mignore_disconnected_error\u001b[0m\u001b[0;34m:\u001b[0m\u001b[0;34m\u001b[0m\u001b[0;34m\u001b[0m\u001b[0m\n",
      "\u001b[0;32m~/opt/anaconda3/lib/python3.8/site-packages/tdmclient/tcp.py\u001b[0m in \u001b[0;36msend_packet\u001b[0;34m(self, packet)\u001b[0m\n\u001b[1;32m    168\u001b[0m                 \u001b[0;32mif\u001b[0m \u001b[0mself\u001b[0m\u001b[0;34m.\u001b[0m\u001b[0mon_comm_error\u001b[0m \u001b[0;32mis\u001b[0m \u001b[0;32mnot\u001b[0m \u001b[0;32mNone\u001b[0m\u001b[0;34m:\u001b[0m\u001b[0;34m\u001b[0m\u001b[0;34m\u001b[0m\u001b[0m\n\u001b[1;32m    169\u001b[0m                     \u001b[0mself\u001b[0m\u001b[0;34m.\u001b[0m\u001b[0mon_comm_error\u001b[0m\u001b[0;34m(\u001b[0m\u001b[0;34m\"write: \"\u001b[0m \u001b[0;34m+\u001b[0m \u001b[0mstr\u001b[0m\u001b[0;34m(\u001b[0m\u001b[0merror\u001b[0m\u001b[0;34m)\u001b[0m\u001b[0;34m)\u001b[0m\u001b[0;34m\u001b[0m\u001b[0;34m\u001b[0m\u001b[0m\n\u001b[0;32m--> 170\u001b[0;31m                 \u001b[0;32mraise\u001b[0m \u001b[0merror\u001b[0m\u001b[0;34m\u001b[0m\u001b[0;34m\u001b[0m\u001b[0m\n\u001b[0m\u001b[1;32m    171\u001b[0m \u001b[0;34m\u001b[0m\u001b[0m\n\u001b[1;32m    172\u001b[0m     \u001b[0;32mdef\u001b[0m \u001b[0mreceive_packet\u001b[0m\u001b[0;34m(\u001b[0m\u001b[0mself\u001b[0m\u001b[0;34m)\u001b[0m\u001b[0;34m:\u001b[0m\u001b[0;34m\u001b[0m\u001b[0;34m\u001b[0m\u001b[0m\n",
      "\u001b[0;32m~/opt/anaconda3/lib/python3.8/site-packages/tdmclient/tcp.py\u001b[0m in \u001b[0;36msend_packet\u001b[0;34m(self, packet)\u001b[0m\n\u001b[1;32m    163\u001b[0m                 \u001b[0mn\u001b[0m \u001b[0;34m=\u001b[0m \u001b[0mlen\u001b[0m\u001b[0;34m(\u001b[0m\u001b[0mpacket\u001b[0m\u001b[0;34m)\u001b[0m\u001b[0;34m\u001b[0m\u001b[0;34m\u001b[0m\u001b[0m\n\u001b[1;32m    164\u001b[0m                 \u001b[0mblen\u001b[0m \u001b[0;34m=\u001b[0m \u001b[0mbytes\u001b[0m\u001b[0;34m(\u001b[0m\u001b[0;34m[\u001b[0m\u001b[0;34m(\u001b[0m\u001b[0mn\u001b[0m \u001b[0;34m>>\u001b[0m \u001b[0;36m8\u001b[0m \u001b[0;34m*\u001b[0m \u001b[0mi\u001b[0m\u001b[0;34m)\u001b[0m \u001b[0;34m&\u001b[0m \u001b[0;36m0xff\u001b[0m \u001b[0;32mfor\u001b[0m \u001b[0mi\u001b[0m \u001b[0;32min\u001b[0m \u001b[0mrange\u001b[0m\u001b[0;34m(\u001b[0m\u001b[0;36m4\u001b[0m\u001b[0;34m)\u001b[0m\u001b[0;34m]\u001b[0m\u001b[0;34m)\u001b[0m\u001b[0;34m\u001b[0m\u001b[0;34m\u001b[0m\u001b[0m\n\u001b[0;32m--> 165\u001b[0;31m                 \u001b[0mself\u001b[0m\u001b[0;34m.\u001b[0m\u001b[0mio\u001b[0m\u001b[0;34m.\u001b[0m\u001b[0mwrite\u001b[0m\u001b[0;34m(\u001b[0m\u001b[0mblen\u001b[0m \u001b[0;34m+\u001b[0m \u001b[0mpacket\u001b[0m\u001b[0;34m)\u001b[0m\u001b[0;34m\u001b[0m\u001b[0;34m\u001b[0m\u001b[0m\n\u001b[0m\u001b[1;32m    166\u001b[0m             \u001b[0;32mexcept\u001b[0m \u001b[0mException\u001b[0m \u001b[0;32mas\u001b[0m \u001b[0merror\u001b[0m\u001b[0;34m:\u001b[0m\u001b[0;34m\u001b[0m\u001b[0;34m\u001b[0m\u001b[0m\n\u001b[1;32m    167\u001b[0m                 \u001b[0mself\u001b[0m\u001b[0;34m.\u001b[0m\u001b[0mcomm_error\u001b[0m \u001b[0;34m=\u001b[0m \u001b[0merror\u001b[0m\u001b[0;34m\u001b[0m\u001b[0;34m\u001b[0m\u001b[0m\n",
      "\u001b[0;32m~/opt/anaconda3/lib/python3.8/site-packages/tdmclient/tcp.py\u001b[0m in \u001b[0;36mwrite\u001b[0;34m(self, b)\u001b[0m\n\u001b[1;32m     93\u001b[0m \u001b[0;34m\u001b[0m\u001b[0m\n\u001b[1;32m     94\u001b[0m             \u001b[0;32mdef\u001b[0m \u001b[0mwrite\u001b[0m\u001b[0;34m(\u001b[0m\u001b[0mself\u001b[0m\u001b[0;34m,\u001b[0m \u001b[0mb\u001b[0m\u001b[0;34m)\u001b[0m\u001b[0;34m:\u001b[0m\u001b[0;34m\u001b[0m\u001b[0;34m\u001b[0m\u001b[0m\n\u001b[0;32m---> 95\u001b[0;31m                 \u001b[0mself\u001b[0m\u001b[0;34m.\u001b[0m\u001b[0msocket\u001b[0m\u001b[0;34m.\u001b[0m\u001b[0msendall\u001b[0m\u001b[0;34m(\u001b[0m\u001b[0mb\u001b[0m\u001b[0;34m)\u001b[0m\u001b[0;34m\u001b[0m\u001b[0;34m\u001b[0m\u001b[0m\n\u001b[0m\u001b[1;32m     96\u001b[0m \u001b[0;34m\u001b[0m\u001b[0m\n\u001b[1;32m     97\u001b[0m         \u001b[0mself\u001b[0m\u001b[0;34m.\u001b[0m\u001b[0mio\u001b[0m \u001b[0;34m=\u001b[0m \u001b[0mTCPClientIO\u001b[0m\u001b[0;34m(\u001b[0m\u001b[0mhost\u001b[0m\u001b[0;34m,\u001b[0m \u001b[0mport\u001b[0m\u001b[0;34m)\u001b[0m\u001b[0;34m\u001b[0m\u001b[0;34m\u001b[0m\u001b[0m\n",
      "\u001b[0;31mBrokenPipeError\u001b[0m: [Errno 32] Broken pipe"
     ]
    }
   ],
   "source": [
    "motor_left_target=0\n",
    "motor_right_target=-0"
   ]
  },
  {
   "cell_type": "code",
   "execution_count": 204,
   "id": "86b0e577-0311-4d15-b07c-cbe4a4b2de09",
   "metadata": {},
   "outputs": [
    {
     "data": {
      "text/plain": [
       "2"
      ]
     },
     "execution_count": 204,
     "metadata": {},
     "output_type": "execute_result"
    }
   ],
   "source": [
    "5%3"
   ]
  },
  {
   "cell_type": "code",
   "execution_count": 196,
   "id": "512befb9-392a-4100-8a1d-ad54b5cc012e",
   "metadata": {},
   "outputs": [
    {
     "data": {
      "text/plain": [
       "[739, 644]"
      ]
     },
     "execution_count": 196,
     "metadata": {},
     "output_type": "execute_result"
    }
   ],
   "source": [
    "prox_ground_delta"
   ]
  },
  {
   "cell_type": "code",
   "execution_count": 217,
   "id": "0942abae-bebb-4f70-bd6f-682e05bccc3f",
   "metadata": {},
   "outputs": [
    {
     "data": {
      "text/plain": [
       "-1.5707963267948966"
      ]
     },
     "execution_count": 217,
     "metadata": {},
     "output_type": "execute_result"
    }
   ],
   "source": [
    "x=myPose.get_coords()\n",
    "x['theta']"
   ]
  },
  {
   "cell_type": "code",
   "execution_count": 220,
   "id": "42ad49a6-16d2-49eb-886f-9927acedd461",
   "metadata": {},
   "outputs": [
    {
     "data": {
      "text/plain": [
       "array([[   0,  500],\n",
       "       [-500,    0],\n",
       "       [   0, -500],\n",
       "       [ 500,    0],\n",
       "       [   0,  500]])"
      ]
     },
     "execution_count": 220,
     "metadata": {},
     "output_type": "execute_result"
    }
   ],
   "source": [
    "trajnp"
   ]
  },
  {
   "cell_type": "code",
   "execution_count": 222,
   "id": "e608730a-0959-4990-af6a-1e6dd3fde005",
   "metadata": {},
   "outputs": [
    {
     "data": {
      "text/plain": [
       "5"
      ]
     },
     "execution_count": 222,
     "metadata": {},
     "output_type": "execute_result"
    }
   ],
   "source": [
    "len(trajnp)"
   ]
  },
  {
   "cell_type": "code",
   "execution_count": null,
   "id": "dc9f3089-50eb-4798-bb85-b5263e7aee99",
   "metadata": {},
   "outputs": [],
   "source": []
  }
 ],
 "metadata": {
  "kernelspec": {
   "display_name": "Python 3.8.8 64-bit ('base': conda)",
   "language": "python",
   "name": "python388jvsc74a57bd08602f5cb72b197bcbf51fd6b713694e76a3d7b2f7549f31956f6f9f8add53c5f"
  },
  "language_info": {
   "codemirror_mode": {
    "name": "ipython",
    "version": 3
   },
   "file_extension": ".py",
   "mimetype": "text/x-python",
   "name": "python",
   "nbconvert_exporter": "python",
   "pygments_lexer": "ipython3",
   "version": "3.8.8"
  }
 },
 "nbformat": 4,
 "nbformat_minor": 5
}
