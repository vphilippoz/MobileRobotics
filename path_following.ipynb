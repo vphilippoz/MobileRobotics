{
 "cells": [
  {
   "cell_type": "markdown",
   "id": "94c3fa56-c17d-4aaa-a9cc-f80203684f27",
   "metadata": {},
   "source": [
    "# importing functions"
   ]
  },
  {
   "cell_type": "code",
   "execution_count": 114,
   "id": "482c2fc5-b974-4bf7-b07e-786f78be691f",
   "metadata": {},
   "outputs": [],
   "source": [
    "import random\n",
    "from itertools import count\n",
    "from matplotlib.animation import FuncAnimation\n",
    "import time\n",
    "import matplotlib.pyplot as plt\n",
    "import follow_road\n",
    "\n",
    "%run localisation.ipynb\n",
    "%run follow_road.py"
   ]
  },
  {
   "cell_type": "code",
   "execution_count": 115,
   "id": "a3b81920-af5a-431b-8a6f-0bd685f5442e",
   "metadata": {},
   "outputs": [],
   "source": [
    "# Import tdmclient Notebook environment:\n",
    "import tdmclient.notebook"
   ]
  },
  {
   "cell_type": "code",
   "execution_count": 116,
   "id": "3afcf3fc-93b0-474d-a3fa-2afa848e247c",
   "metadata": {},
   "outputs": [],
   "source": [
    "await tdmclient.notebook.start()"
   ]
  },
  {
   "cell_type": "markdown",
   "id": "67acae98-07fe-4e17-96c3-de084aa1ce35",
   "metadata": {},
   "source": [
    "# Graphical functions"
   ]
  },
  {
   "cell_type": "code",
   "execution_count": 117,
   "id": "5f7174cf-b096-4a08-a2cb-2c6bd1f296f5",
   "metadata": {
    "tags": []
   },
   "outputs": [
    {
     "name": "stdout",
     "output_type": "stream",
     "text": [
      "Unchecked Starred(value=Name(id='traj', ctx=Load()), ctx=Load())\n"
     ]
    }
   ],
   "source": [
    "def draw_trajectory(traj) :\n",
    "    #fig=plt.figure()\n",
    "    #ax1=fig.add_subplot(111)\n",
    "    #ax2=fig.add_subplot(221)\n",
    "    xs, ys = zip(*traj)\n",
    "    plt.plot(xs,ys)\n",
    "    #ax1.set_aspect('equal')\n",
    "    return"
   ]
  },
  {
   "cell_type": "code",
   "execution_count": 118,
   "id": "00234c78-3261-46d8-9098-ba58a875bce9",
   "metadata": {},
   "outputs": [
    {
     "name": "stdout",
     "output_type": "stream",
     "text": [
      "Unchecked Starred(value=Name(id='thymio_shape', ctx=Load()), ctx=Load())\n"
     ]
    }
   ],
   "source": [
    "def draw_thymio(pose) :\n",
    "    move=pose[0:2]\n",
    "    angle=pose[2]-math.pi/2\n",
    "    thymio_shape=[[-0.5,-0.5],[0.5,-0.5],[0.5,0.25],[0,0.75],[-0.5,0.25]]\n",
    "    \n",
    "    thymio_shape.append(thymio_shape[0]) #repeat the first point to create a 'closed loop'\n",
    "    rot=np.array([[np.cos(angle) , -np.sin(angle)],[np.sin(angle),np.cos(angle)]])\n",
    "    thymio_shape=(np.transpose((np.matmul(rot,np.transpose(100*np.array(thymio_shape))))))\n",
    "    thymio_shape+=[move,move,move,move,move,move]\n",
    "    xs, ys = zip(*thymio_shape) #create lists of x and y values\n",
    "    fig=plt.figure(figsize=(8, 8), dpi=80)\n",
    "\n",
    "    ax = fig.add_subplot(111)\n",
    "    ax.set_aspect('equal')\n",
    "\n",
    "    plt.xlim((0,1600))\n",
    "    plt.ylim((0,1100))\n",
    "    plt.plot(xs,ys)\n",
    "    return thymio_shape"
   ]
  },
  {
   "cell_type": "code",
   "execution_count": 119,
   "id": "532ca162-ca98-4029-93cb-adb13b828578",
   "metadata": {},
   "outputs": [],
   "source": [
    "def draw_now(pose,traj) :\n",
    "    draw_thymio(pose)\n",
    "    draw_trajectory(traj)\n",
    "    plt.show()\n",
    "    return\n"
   ]
  },
  {
   "cell_type": "code",
   "execution_count": 120,
   "id": "9606b119-a08b-44c2-963b-36a83dd1df05",
   "metadata": {},
   "outputs": [
    {
     "data": {
      "image/png": "[encoded data removed]",
      "text/plain": [
       "<Figure size 640x640 with 1 Axes>"
      ]
     },
     "metadata": {
      "needs_background": "light"
     },
     "output_type": "display_data"
    }
   ],
   "source": [
    "draw_now(S,trajnp)"
   ]
  },
  {
   "cell_type": "code",
   "execution_count": 121,
   "id": "1e547bee-653d-408f-a163-8efda9f9b70c",
   "metadata": {},
   "outputs": [
    {
     "data": {
      "image/png": "[encoded data removed]",
      "text/plain": [
       "<Figure size 640x640 with 1 Axes>"
      ]
     },
     "metadata": {
      "needs_background": "light"
     },
     "output_type": "display_data"
    },
    {
     "data": {
      "text/plain": [
       "array([[-5.0000000e+01,  5.0000000e+01],\n",
       "       [-5.0000000e+01, -5.0000000e+01],\n",
       "       [ 2.5000000e+01, -5.0000000e+01],\n",
       "       [ 7.5000000e+01,  4.5924255e-15],\n",
       "       [ 2.5000000e+01,  5.0000000e+01],\n",
       "       [-5.0000000e+01,  5.0000000e+01]])"
      ]
     },
     "execution_count": 121,
     "metadata": {},
     "output_type": "execute_result"
    }
   ],
   "source": [
    "thymio_shape=draw_thymio([0,0,0])\n",
    "draw_trajectory(trajnp)\n",
    "plt.show()\n",
    "thymio_shape"
   ]
  },
  {
   "cell_type": "markdown",
   "id": "5b77af6b-d0ca-42c6-8cbc-6f519dd01378",
   "metadata": {},
   "source": [
    "# stop and turn approach"
   ]
  },
  {
   "cell_type": "code",
   "execution_count": 122,
   "id": "61e614c6-7caa-44e8-9780-b184dc6f1757",
   "metadata": {},
   "outputs": [],
   "source": [
    "def inverse_kin(pose,obj) :\n",
    "    global motor_left_target, motor_right_target\n",
    "    angle_thres=math.pi/12\n",
    "    angle=theta_des(pose,obj)\n",
    "    error=angle-pose[2]\n",
    "    if error>math.pi : \n",
    "        error-=2*math.pi\n",
    "    if error< -(math.pi) :\n",
    "        error+=2*math.pi\n",
    "    speed=200\n",
    "    coeff=100*5/math.pi # experimental value : half a turn with speed=100 takes 5 seconds\n",
    "    t=abs(error)/speed*coeff\n",
    "    \n",
    "    vl=-np.sign(error)*speed\n",
    "    vr=-vl\n",
    "    motor_left_target = int(vl)\n",
    "    motor_right_target = int(vr)\n",
    "    \n",
    "    time.sleep(2.5)\n",
    "    \n",
    "    motor_left_target = 0\n",
    "    motor_right_target = 0\n",
    "    return [vl,vr,t]\n",
    "    "
   ]
  },
  {
   "cell_type": "code",
   "execution_count": 123,
   "id": "a28c94e2-234c-458a-a277-92206c7fa593",
   "metadata": {},
   "outputs": [
    {
     "name": "stdout",
     "output_type": "stream",
     "text": [
      "[-200.0, 200.0, 1.2500000000000002]\n"
     ]
    },
    {
     "data": {
      "image/png": "[encoded data removed]",
      "text/plain": [
       "<Figure size 640x640 with 1 Axes>"
      ]
     },
     "metadata": {
      "needs_background": "light"
     },
     "output_type": "display_data"
    },
    {
     "data": {
      "image/png": "[encoded data removed]",
      "text/plain": [
       "<Figure size 640x640 with 1 Axes>"
      ]
     },
     "metadata": {
      "needs_background": "light"
     },
     "output_type": "display_data"
    }
   ],
   "source": [
    "pose=[0,0,0]\n",
    "draw_thymio(pose)\n",
    "vl=vr=0\n",
    "next_point=[0,500]\n",
    "\n",
    "[vl,vr,dt]=inverse_kin(pose,next_point)\n",
    "pose=kinematics2(pose,vl,vr,dt*1000)\n",
    "draw_thymio(pose)\n",
    "print([vl,vr,dt])"
   ]
  },
  {
   "cell_type": "code",
   "execution_count": 124,
   "id": "d31a149b-7a6e-4acb-902c-60990f985a25",
   "metadata": {},
   "outputs": [],
   "source": [
    "motor_left_target = int(vl)\n",
    "motor_right_target = int(vr)\n",
    "sleep(dt)\n",
    "    \n",
    "motor_left_target = 300\n",
    "motor_right_target = 300\n",
    "sleep(2)\n",
    "motor_left_target = 0\n",
    "motor_right_target = 0"
   ]
  },
  {
   "cell_type": "code",
   "execution_count": 125,
   "id": "fd02a240-dced-49c3-9182-671261849922",
   "metadata": {},
   "outputs": [],
   "source": [
    "t=float(0.5)\n",
    "if 1 :\n",
    "    motor_left_target = -100\n",
    "    motor_right_target = 100\n",
    "sleep(t)\n",
    "motor_left_target = 100\n",
    "motor_right_target = -100\n",
    "sleep(t)\n",
    "motor_left_target = 0\n",
    "motor_right_target = 0"
   ]
  },
  {
   "cell_type": "code",
   "execution_count": 126,
   "id": "ff5f87b6-2db2-47fc-ac72-eb3bb11c2bbc",
   "metadata": {},
   "outputs": [],
   "source": [
    "motor_left_target = 0\n",
    "motor_right_target = 0"
   ]
  },
  {
   "cell_type": "markdown",
   "id": "29af019a-748a-40fd-b8d8-1d6d31f176e2",
   "metadata": {},
   "source": [
    "# PID controller"
   ]
  },
  {
   "cell_type": "code",
   "execution_count": 127,
   "id": "40908fc9-5542-4ffd-b1c4-6e4037a480a9",
   "metadata": {},
   "outputs": [
    {
     "data": {
      "text/plain": [
       "array([[ 800,  500],\n",
       "       [1500,  500]])"
      ]
     },
     "execution_count": 127,
     "metadata": {},
     "output_type": "execute_result"
    }
   ],
   "source": [
    "traj[0]\n",
    "trajnp=np.array([[800,500],[1500,500]])\n",
    "trajnp"
   ]
  },
  {
   "cell_type": "code",
   "execution_count": 128,
   "id": "69f1fbe9-b481-4bda-aa5d-7973f2046a1b",
   "metadata": {},
   "outputs": [],
   "source": [
    "def PID(e,ediff,eint) :\n",
    "\n",
    "    Kp=12\n",
    "    Ki=0.05\n",
    "    Kd=0\n",
    "    correction=Kp*e+Ki*eint+Kd*ediff\n",
    "    return correction\n",
    "\n",
    "def theta_des(pos,obj) :\n",
    "    '''\n",
    "    orientation desired to face towards the goal\n",
    "    \n",
    "    '''\n",
    "    return math.atan2(obj[1]-pos[1],obj[0]-pos[0])\n",
    "\n",
    "def speed_des(pos,obj) :\n",
    "    '''\n",
    "    straight line speed desired, constant component + variable \n",
    "    component depending on distance to next point\n",
    "    '''\n",
    "    vbase=500\n",
    "    coeff=0.5 # weight of variable component\n",
    "    return vbase+coeff*math.sqrt((obj[1]-pos[1])**2+(obj[0]-pos[0])**2)\n",
    "\n",
    "def wheel_inputs(omega,v) :\n",
    "    '''\n",
    "    calculates the motor speeds for the robot\n",
    "    \n",
    "    Arguments:\n",
    "        - omega: correction, output of the PID\n",
    "        - v: desired straight line speed\n",
    "    Outputs:\n",
    "        - [vl,vr]: left and right motor speeds \n",
    "    \n",
    "    '''\n",
    "    R=20 #wheel radius in [mm]\n",
    "    L=95 #distance between wheels in [mm]\n",
    "    vl=5*(2*v-omega*L)/(2*R) #left motor speed\n",
    "    vr=5*(2*v+omega*L)/(2*R) #right motor speed\n",
    "    \n",
    "    #### setting lower and upper bounds ####\n",
    "    if vr<0 :\n",
    "        vr=max(-300,vr)\n",
    "    else :\n",
    "        vr=min(300,vr)\n",
    "        \n",
    "    if vl<0 :\n",
    "        vl=max(-300,vl)\n",
    "    else :\n",
    "        vl=min(300,vl)\n",
    "\n",
    "    \n",
    "    return [int(vl),int(vr)]\n",
    "\n",
    "def compute_error(pose,obj) : \n",
    "    angle=theta_des(pose,obj)\n",
    "    error=angle-pose[2]\n",
    "    if error>math.pi : \n",
    "        error-=2*math.pi\n",
    "    if error< -(math.pi) :\n",
    "        error+=2*math.pi\n",
    "    return error"
   ]
  },
  {
   "cell_type": "code",
   "execution_count": 129,
   "id": "4b63045e-a4c2-4476-9637-1b5fb284eba3",
   "metadata": {},
   "outputs": [],
   "source": [
    "def follow_path(pose,trajectory,graph) :\n",
    "    # following the path\n",
    "    # initialisation \n",
    "    dt=0.1 # control period in [s]\n",
    "    \n",
    "    myPose=Pose(pose[0],pose[1],pose[2])\n",
    "    \n",
    "    nx_pt_id=0 # index of the next point to attain in the trajectory, set as 0 to start\n",
    "    next_point=trajnp[nx_pt_id]\n",
    "    \n",
    "    prev_error=0 \n",
    "    e_int=0\n",
    "    \n",
    "    distance_to_goal=dist(pose,trajnp[-1])\n",
    "    \n",
    "    iter=0\n",
    "\n",
    "    while not(distance_to_goal < 5 and nx_pt_id==len(trajnp)-1) : # main control loop\n",
    "        \n",
    "        ########     get position    #######\n",
    "        global prox_ground_delta, motor_left_target, motor_right_target, motor_left_speed, motor_right_speed\n",
    "        #pose=kinematics2(pose,vl,vr,dt)\n",
    "        myPose.update([motor_left_speed,motor_right_speed],prox_ground_delta,dt,myMap)\n",
    "        pose=list(myPose.get_coords().values()) #pose in list form for low level functions\n",
    "        #angle=theta_des(pose,next_point)\n",
    "        v=speed_des(pose,next_point) \n",
    "        \n",
    "        \n",
    "        ########    call pid   ##########\n",
    "        error=compute_error(pose,next_point)\n",
    "        e_diff=(error-prev_error)/dt\n",
    "        e_int+=error\n",
    "        omega=PID(error,e_diff,e_int)\n",
    "\n",
    "        #######  set wheel speeds    #######\n",
    "        [vl,vr]=wheel_inputs(omega,v)\n",
    "        motor_left_target = vl\n",
    "        motor_right_target = vr\n",
    "        sleep(dt)\n",
    "        \n",
    "        #####  check if arrived  ######\n",
    "        if distance_to_goal < 5 and nx_pt_id==len(trajectory)-1 :\n",
    "            break\n",
    "        ##### update next point ######\n",
    "        if dist(pose,next_point) < 5 and nx_pt_id<len(trajectory)-1 : \n",
    "            nx_pt_id+=1\n",
    "            next_point=trajectory[nx_pt_id]\n",
    "\n",
    "        #####  update distance to final point  #####\n",
    "        distance_to_goal=dist(pose,trajectory[-1]) \n",
    "\n",
    "\n",
    "        #####    graph  ####\n",
    "        if iter % 20 ==0 and graph: \n",
    "            print (myPose.get_coords())\n",
    "            print(error,e_diff,e_int)\n",
    "            print([vl,vr])\n",
    "            print(distance_to_goal)\n",
    "            print(dist(pose,next_point))\n",
    "            #myPose.plot(plot_theta=False)\n",
    "            draw_now(pose,trajnp)\n",
    "\n",
    "    \n",
    "        iter+=1\n",
    "    motor_left_target=0\n",
    "    motor_right_target=0\n",
    "    print('arrive sain et sauf')\n",
    "    return"
   ]
  },
  {
   "cell_type": "code",
   "execution_count": 131,
   "id": "02e4f4ff-367a-4e18-b162-c4d212cf60b1",
   "metadata": {},
   "outputs": [
    {
     "name": "stdout",
     "output_type": "stream",
     "text": [
      "{'x': 1500.0000045014212, 'y': 99.97932066222876, 'theta': 1.5712316812846054}\n",
      "1.0511925910561846 10.511925910561844 1.0511925910561846\n",
      "[75, 300]\n",
      "400.0206793377713\n",
      "806.2360387627447\n"
     ]
    },
    {
     "data": {
      "image/png": "[encoded data removed]",
      "text/plain": [
       "<Figure size 640x640 with 1 Axes>"
      ]
     },
     "metadata": {
      "needs_background": "light"
     },
     "output_type": "display_data"
    },
    {
     "name": "stdout",
     "output_type": "stream",
     "text": [
      "{'x': 1396.9660001213135, 'y': 216.22675757271958, 'theta': 2.683127048001292}\n",
      "0.014724286682098242 0.14724286682098242 9.152648847548226\n",
      "[200, 215]\n",
      "301.89941743682317\n",
      "660.980830598386\n"
     ]
    },
    {
     "data": {
      "image/png": "[encoded data removed]",
      "text/plain": [
       "<Figure size 640x640 with 1 Axes>"
      ]
     },
     "metadata": {
      "needs_background": "light"
     },
     "output_type": "display_data"
    },
    {
     "name": "stdout",
     "output_type": "stream",
     "text": [
      "{'x': 1247.952988926072, 'y': 282.2782079365825, 'theta': 2.726589349995173}\n",
      "-0.03741175622934456 -0.3741175622934456 8.524314896217135\n",
      "[187, 186]\n",
      "333.0622682481562\n",
      "498.0608989140863\n"
     ]
    },
    {
     "data": {
      "image/png": "[encoded data removed]",
      "text/plain": [
       "<Figure size 640x640 with 1 Axes>"
      ]
     },
     "metadata": {
      "needs_background": "light"
     },
     "output_type": "display_data"
    },
    {
     "name": "stdout",
     "output_type": "stream",
     "text": [
      "{'x': 1115.1740115723253, 'y': 342.4915404115743, 'theta': 2.7104227451733736}\n",
      "-0.03227830844021451 -0.3227830844021451 7.859675523900527\n",
      "[168, 169]\n",
      "415.8124050713922\n",
      "352.34013738504296\n"
     ]
    },
    {
     "data": {
      "image/png": "[encoded data removed]",
      "text/plain": [
       "<Figure size 640x640 with 1 Axes>"
      ]
     },
     "metadata": {
      "needs_background": "light"
     },
     "output_type": "display_data"
    },
    {
     "name": "stdout",
     "output_type": "stream",
     "text": [
      "{'x': 993.4729424007511, 'y': 397.61403660948923, 'theta': 2.6995388829306495}\n",
      "-0.04468037346622289 -0.4468037346622289 6.877027096065648\n",
      "[154, 150]\n",
      "516.7712700794771\n",
      "218.89418663045248\n"
     ]
    },
    {
     "data": {
      "image/png": "[encoded data removed]",
      "text/plain": [
       "<Figure size 640x640 with 1 Axes>"
      ]
     },
     "metadata": {
      "needs_background": "light"
     },
     "output_type": "display_data"
    },
    {
     "name": "stdout",
     "output_type": "stream",
     "text": [
      "{'x': 886.5113005082737, 'y': 450.3271189205055, 'theta': 2.647514973140594}\n",
      "-0.027138586662835973 -0.27138586662835973 5.927413534115299\n",
      "[137, 137]\n",
      "615.4963684042232\n",
      "99.7577076238746\n"
     ]
    },
    {
     "data": {
      "image/png": "[encoded data removed]",
      "text/plain": [
       "<Figure size 640x640 with 1 Axes>"
      ]
     },
     "metadata": {
      "needs_background": "light"
     },
     "output_type": "display_data"
    },
    {
     "name": "stdout",
     "output_type": "stream",
     "text": [
      "{'x': 791.5885962845165, 'y': 504.09971525817275, 'theta': 2.5666672172527987}\n",
      "-2.5724543481048334 -25.724543481048332 -0.7346877980213367\n",
      "[300, -153]\n",
      "708.4232665429191\n",
      "708.4232665429191\n"
     ]
    },
    {
     "data": {
      "image/png": "[encoded data removed]",
      "text/plain": [
       "<Figure size 640x640 with 1 Axes>"
      ]
     },
     "metadata": {
      "needs_background": "light"
     },
     "output_type": "display_data"
    },
    {
     "name": "stdout",
     "output_type": "stream",
     "text": [
      "{'x': 858.7141826397801, 'y': 579.7493095161205, 'theta': 0.08234230873429169}\n",
      "-0.20606557235075115 -2.0606557235075114 -23.742192983278034\n",
      "[249, 162]\n",
      "646.2255426054152\n",
      "646.2255426054152\n"
     ]
    },
    {
     "data": {
      "image/png": "[encoded data removed]",
      "text/plain": [
       "<Figure size 640x640 with 1 Axes>"
      ]
     },
     "metadata": {
      "needs_background": "light"
     },
     "output_type": "display_data"
    },
    {
     "name": "stdout",
     "output_type": "stream",
     "text": [
      "{'x': 1021.2530053175507, 'y': 546.5082092729725, 'theta': 6.114335470978524}\n",
      "0.07200802013999574 0.7200802013999574 -22.259086815676707\n",
      "[188, 182]\n",
      "481.00072603610045\n",
      "481.00072603610045\n"
     ]
    },
    {
     "data": {
      "image/png": "[encoded data removed]",
      "text/plain": [
       "<Figure size 640x640 with 1 Axes>"
      ]
     },
     "metadata": {
      "needs_background": "light"
     },
     "output_type": "display_data"
    },
    {
     "name": "stdout",
     "output_type": "stream",
     "text": [
      "{'x': 1166.0303864274504, 'y': 520.5222389401911, 'theta': 6.122975137049195}\n",
      "0.09883792067601149 0.9883792067601149 -20.306441875448442\n",
      "[164, 168]\n",
      "334.59955929575943\n",
      "334.59955929575943\n"
     ]
    },
    {
     "data": {
      "image/png": "[encoded data removed]",
      "text/plain": [
       "<Figure size 640x640 with 1 Axes>"
      ]
     },
     "metadata": {
      "needs_background": "light"
     },
     "output_type": "display_data"
    },
    {
     "name": "stdout",
     "output_type": "stream",
     "text": [
      "{'x': 1294.8587308623614, 'y': 501.7505011081363, 'theta': 6.166555045031072}\n",
      "0.10809731980111703 1.0809731980111703 -18.12202103810624\n",
      "[145, 155]\n",
      "205.14873764547187\n",
      "205.14873764547187\n"
     ]
    },
    {
     "data": {
      "image/png": "[encoded data removed]",
      "text/plain": [
       "<Figure size 640x640 with 1 Axes>"
      ]
     },
     "metadata": {
      "needs_background": "light"
     },
     "output_type": "display_data"
    },
    {
     "name": "stdout",
     "output_type": "stream",
     "text": [
      "{'x': 1412.5198457114718, 'y': 492.71010884217594, 'theta': 6.252303247447056}\n",
      "0.11402191004750595 1.1402191004750595 -15.932518094352783\n",
      "[129, 142]\n",
      "87.78336919620719\n",
      "87.78336919620719\n"
     ]
    },
    {
     "data": {
      "image/png": "[encoded data removed]",
      "text/plain": [
       "<Figure size 640x640 with 1 Axes>"
      ]
     },
     "metadata": {
      "needs_background": "light"
     },
     "output_type": "display_data"
    },
    {
     "name": "stdout",
     "output_type": "stream",
     "text": [
      "arrive sain et sauf\n"
     ]
    }
   ],
   "source": [
    "follow_path([1500,100,math.pi/2],trajnp,True)"
   ]
  },
  {
   "cell_type": "code",
   "execution_count": 104,
   "id": "bc7ae103-2a3e-4b7f-a9b6-666d2eefaa5a",
   "metadata": {},
   "outputs": [],
   "source": [
    "motor_left_target=0\n",
    "motor_right_target=0"
   ]
  },
  {
   "cell_type": "code",
   "execution_count": 103,
   "id": "86b0e577-0311-4d15-b07c-cbe4a4b2de09",
   "metadata": {},
   "outputs": [
    {
     "data": {
      "text/plain": [
       "2"
      ]
     },
     "execution_count": 103,
     "metadata": {},
     "output_type": "execute_result"
    }
   ],
   "source": [
    "5%3"
   ]
  },
  {
   "cell_type": "code",
   "execution_count": 109,
   "id": "42ad49a6-16d2-49eb-886f-9927acedd461",
   "metadata": {},
   "outputs": [
    {
     "data": {
      "text/plain": [
       "array([[1400.,   20.],\n",
       "       [1500.,   20.],\n",
       "       [1500.,   95.],\n",
       "       [1450.,  145.],\n",
       "       [1400.,   95.],\n",
       "       [1400.,   20.]])"
      ]
     },
     "execution_count": 109,
     "metadata": {},
     "output_type": "execute_result"
    },
    {
     "data": {
      "image/png": "[encoded data removed]",
      "text/plain": [
       "<Figure size 640x640 with 1 Axes>"
      ]
     },
     "metadata": {
      "needs_background": "light"
     },
     "output_type": "display_data"
    }
   ],
   "source": [
    "draw_thymio([1450,70,math.pi/2])"
   ]
  }
 ],
 "metadata": {
  "kernelspec": {
   "display_name": "Python 3.8.8 64-bit ('base': conda)",
   "language": "python",
   "name": "python388jvsc74a57bd08602f5cb72b197bcbf51fd6b713694e76a3d7b2f7549f31956f6f9f8add53c5f"
  },
  "language_info": {
   "codemirror_mode": {
    "name": "ipython",
    "version": 3
   },
   "file_extension": ".py",
   "mimetype": "text/x-python",
   "name": "python",
   "nbconvert_exporter": "python",
   "pygments_lexer": "ipython3",
   "version": "3.8.8"
  }
 },
 "nbformat": 4,
 "nbformat_minor": 5
}
