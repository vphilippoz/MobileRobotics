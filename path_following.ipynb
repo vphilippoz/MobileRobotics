{
 "cells": [
  {
   "cell_type": "markdown",
   "id": "94c3fa56-c17d-4aaa-a9cc-f80203684f27",
   "metadata": {},
   "source": [
    "# importing functions"
   ]
  },
  {
   "cell_type": "code",
   "execution_count": 1,
   "id": "482c2fc5-b974-4bf7-b07e-786f78be691f",
   "metadata": {
    "ExecuteTime": {
     "end_time": "2021-12-09T22:59:56.469726Z",
     "start_time": "2021-12-09T22:59:56.133713Z"
    }
   },
   "outputs": [],
   "source": [
    "import random\n",
    "from itertools import count\n",
    "from matplotlib.animation import FuncAnimation\n",
    "import time\n",
    "import matplotlib.pyplot as plt\n",
    "import follow_road\n",
    "\n"
   ]
  },
  {
   "cell_type": "markdown",
   "id": "67acae98-07fe-4e17-96c3-de084aa1ce35",
   "metadata": {},
   "source": [
    "# Graphical functions"
   ]
  },
  {
   "cell_type": "code",
   "execution_count": 57,
   "id": "5f7174cf-b096-4a08-a2cb-2c6bd1f296f5",
   "metadata": {
    "tags": []
   },
   "outputs": [
    {
     "name": "stdout",
     "output_type": "stream",
     "text": [
      "Unchecked Starred(value=Name(id='traj', ctx=Load()), ctx=Load())\n"
     ]
    }
   ],
   "source": [
    "def draw_trajectory(traj) :\n",
    "    #fig=plt.figure()\n",
    "    #ax1=fig.add_subplot(111)\n",
    "    #ax2=fig.add_subplot(221)\n",
    "    xs, ys = zip(*traj)\n",
    "    plt.plot(xs,ys)\n",
    "    #ax1.set_aspect('equal')\n",
    "    return"
   ]
  },
  {
   "cell_type": "code",
   "execution_count": 58,
   "id": "00234c78-3261-46d8-9098-ba58a875bce9",
   "metadata": {},
   "outputs": [
    {
     "name": "stdout",
     "output_type": "stream",
     "text": [
      "Unchecked Starred(value=Name(id='thymio_shape', ctx=Load()), ctx=Load())\n"
     ]
    }
   ],
   "source": [
    "def draw_thymio(pose) :\n",
    "    move=pose[0:2]\n",
    "    angle=pose[2]-math.pi/2\n",
    "    thymio_shape=[[-0.5,-0.5],[0.5,-0.5],[0.5,0.25],[0,0.75],[-0.5,0.25]]\n",
    "    \n",
    "    thymio_shape.append(thymio_shape[0]) #repeat the first point to create a 'closed loop'\n",
    "    rot=np.array([[np.cos(angle) , -np.sin(angle)],[np.sin(angle),np.cos(angle)]])\n",
    "    thymio_shape=(np.transpose((np.matmul(rot,np.transpose(100*np.array(thymio_shape))))))\n",
    "    thymio_shape+=[move,move,move,move,move,move]\n",
    "    xs, ys = zip(*thymio_shape) #create lists of x and y values\n",
    "    fig=plt.figure(figsize=(8, 8), dpi=80)\n",
    "\n",
    "    ax = fig.add_subplot(111)\n",
    "    ax.set_aspect('equal')\n",
    "\n",
    "    plt.xlim((0,1600))\n",
    "    plt.ylim((0,1100))\n",
    "    plt.plot(xs,ys)\n",
    "    return thymio_shape"
   ]
  },
  {
   "cell_type": "code",
   "execution_count": 59,
   "id": "532ca162-ca98-4029-93cb-adb13b828578",
   "metadata": {},
   "outputs": [],
   "source": [
    "def draw_now(pose,traj) :\n",
    "    draw_thymio(pose)\n",
    "    draw_trajectory(traj)\n",
    "    plt.show()\n",
    "    return\n"
   ]
  },
  {
   "cell_type": "markdown",
   "id": "29af019a-748a-40fd-b8d8-1d6d31f176e2",
   "metadata": {},
   "source": [
    "# PID controller"
   ]
  },
  {
   "cell_type": "code",
   "execution_count": 111,
   "id": "69f1fbe9-b481-4bda-aa5d-7973f2046a1b",
   "metadata": {},
   "outputs": [],
   "source": [
    "def PID(e,ediff,eint) :\n",
    "\n",
    "    Kp=12\n",
    "    Ki=0.05\n",
    "    Kd=0\n",
    "    correction=Kp*e+Ki*eint+Kd*ediff\n",
    "    return correction\n",
    "\n",
    "def theta_des(pos,obj) :\n",
    "    '''\n",
    "    orientation desired to face towards the goal\n",
    "    \n",
    "    '''\n",
    "    \n",
    "       \n",
    "    return math.atan2(obj[1]-pos[1],obj[0]-pos[0])\n",
    "\n",
    "def speed_des(pos,obj) :\n",
    "    '''\n",
    "    straight line speed desired, constant component + variable \n",
    "    component depending on distance to next point\n",
    "    '''\n",
    "    vbase=500\n",
    "    coeff=0.5 # weight of variable component\n",
    "    return vbase+coeff*math.sqrt((obj[1]-pos[1])**2+(obj[0]-pos[0])**2)\n",
    "\n",
    "def wheel_inputs(omega,v) :\n",
    "    '''\n",
    "    calculates the motor speeds for the robot\n",
    "    \n",
    "    Arguments:\n",
    "        - omega: correction, output of the PID\n",
    "        - v: desired straight line speed\n",
    "    Outputs:\n",
    "        - [vl,vr]: left and right motor speeds \n",
    "    \n",
    "    '''\n",
    "    R=20 #wheel radius in [mm]\n",
    "    L=95 #distance between wheels in [mm]\n",
    "    vl=5*(2*v-omega*L)/(2*R) #left motor speed\n",
    "    vr=5*(2*v+omega*L)/(2*R) #right motor speed\n",
    "    \n",
    "    #### setting lower and upper bounds ####\n",
    "    if vr<0 :\n",
    "        vr=max(-300,vr)\n",
    "    else :\n",
    "        vr=min(300,vr)\n",
    "        \n",
    "    if vl<0 :\n",
    "        vl=max(-300,vl)\n",
    "    else :\n",
    "        vl=min(300,vl)\n",
    "\n",
    "    \n",
    "    return [int(vl),int(vr)]\n",
    "\n",
    "def compute_error(pose,obj) : \n",
    "    angle=theta_des(pose,obj)\n",
    "    error=angle-pose[2]\n",
    "    if error>math.pi : \n",
    "        error-=2*math.pi\n",
    "    if error< -(math.pi) :\n",
    "        error+=2*math.pi\n",
    "    return error"
   ]
  },
  {
   "cell_type": "code",
   "execution_count": 53,
   "id": "4b63045e-a4c2-4476-9637-1b5fb284eba3",
   "metadata": {
    "ExecuteTime": {
     "end_time": "2021-12-09T17:37:26.902690Z",
     "start_time": "2021-12-09T17:37:26.832179Z"
    }
   },
   "outputs": [],
   "source": [
    "e_diff = 0\n",
    "e_int = 0\n",
    "prev_error = 0\n",
    "def follow_path(pose,next_point,reset,dt):\n",
    "    \n",
    "    max_error = 5\n",
    "    global e_diff, e_int, prev_error\n",
    "    if reset:\n",
    "        nx_pt_id=0 # index of the next point to attain in the trajectory, set as 0 to start    \n",
    "        prev_error=0 \n",
    "        e_int=0\n",
    "    \n",
    "    \n",
    "        \n",
    "    ########    call pid   ##########\n",
    "    \n",
    "    error=compute_error(pose,next_point)\n",
    "    e_diff=(error-prev_error)/dt\n",
    "    \n",
    "    #print(\"error\")\n",
    "    #print(error)\n",
    "    #print(\"e_diff\")\n",
    "    #print(e_diff)\n",
    "    \n",
    "    e_int+=error\n",
    "    \n",
    "    if e_int > max_error:\n",
    "        e_int = max_error\n",
    "    if e_int < -max_error:\n",
    "        e_int = -max_error\n",
    "        \n",
    "    #print(\"e_int\",e_int)\n",
    "\n",
    "    \n",
    "    omega=PID(error,e_diff,e_int)\n",
    "    prev_error = error\n",
    "    #######  set wheel speeds    #######\n",
    "    v=speed_des(pose,next_point)\n",
    "    [vl,vr]=wheel_inputs(omega,v)\n",
    "    #print(\"speeds\")\n",
    "    #print([vl,vr])\n",
    "      \n",
    "    return [vl,vr]"
   ]
  },
  {
   "cell_type": "code",
   "execution_count": null,
   "id": "328cf76e",
   "metadata": {},
   "outputs": [],
   "source": []
  }
 ],
 "metadata": {
  "hide_input": false,
  "kernelspec": {
   "display_name": "Python 3 (ipykernel)",
   "language": "python",
   "name": "python3"
  },
  "language_info": {
   "codemirror_mode": {
    "name": "ipython",
    "version": 3
   },
   "file_extension": ".py",
   "mimetype": "text/x-python",
   "name": "python",
   "nbconvert_exporter": "python",
   "pygments_lexer": "ipython3",
   "version": "3.9.7"
  },
  "toc": {
   "base_numbering": 1,
   "nav_menu": {},
   "number_sections": true,
   "sideBar": true,
   "skip_h1_title": false,
   "title_cell": "Table of Contents",
   "title_sidebar": "Contents",
   "toc_cell": false,
   "toc_position": {},
   "toc_section_display": true,
   "toc_window_display": false
  }
 },
 "nbformat": 4,
 "nbformat_minor": 5
}
