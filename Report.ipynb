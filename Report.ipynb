{
 "cells": [
  {
   "cell_type": "markdown",
   "id": "b6f0ed00",
   "metadata": {
    "toc": true
   },
   "source": [
    "<h1>Table of Contents<span class=\"tocSkip\"></span></h1>\n",
    "<div class=\"toc\"><ul class=\"toc-item\"><li><span><a href=\"#Project-Report\" data-toc-modified-id=\"Project-Report-1\"><span class=\"toc-item-num\">1&nbsp;&nbsp;</span>Project Report</a></span><ul class=\"toc-item\"><li><span><a href=\"#Basics-of-Mobile-Robotics,-MICRO-452\" data-toc-modified-id=\"Basics-of-Mobile-Robotics,-MICRO-452-1.1\"><span class=\"toc-item-num\">1.1&nbsp;&nbsp;</span>Basics of Mobile Robotics, MICRO-452</a></span><ul class=\"toc-item\"><li><span><a href=\"#Mehdi-Krichen,-Francesco-Nonis,-Michael-Richter,-Vincent-Philippoz,-Nathan-Decurnex\" data-toc-modified-id=\"Mehdi-Krichen,-Francesco-Nonis,-Michael-Richter,-Vincent-Philippoz,-Nathan-Decurnex-1.1.1\"><span class=\"toc-item-num\">1.1.1&nbsp;&nbsp;</span>Mehdi Krichen, Francesco Nonis, Michael Richter, Vincent Philippoz, Nathan Decurnex</a></span></li></ul></li></ul></li><li><span><a href=\"#Environment\" data-toc-modified-id=\"Environment-2\"><span class=\"toc-item-num\">2&nbsp;&nbsp;</span>Environment</a></span></li><li><span><a href=\"#Implementation\" data-toc-modified-id=\"Implementation-3\"><span class=\"toc-item-num\">3&nbsp;&nbsp;</span>Implementation</a></span><ul class=\"toc-item\"><li><span><a href=\"#Vision\" data-toc-modified-id=\"Vision-3.1\"><span class=\"toc-item-num\">3.1&nbsp;&nbsp;</span>Vision</a></span><ul class=\"toc-item\"><li><span><a href=\"#Illustrations\" data-toc-modified-id=\"Illustrations-3.1.1\"><span class=\"toc-item-num\">3.1.1&nbsp;&nbsp;</span>Illustrations</a></span></li><li><span><a href=\"#Real-Code-testing\" data-toc-modified-id=\"Real-Code-testing-3.1.2\"><span class=\"toc-item-num\">3.1.2&nbsp;&nbsp;</span>Real Code testing</a></span></li></ul></li><li><span><a href=\"#Path-Planning\" data-toc-modified-id=\"Path-Planning-3.2\"><span class=\"toc-item-num\">3.2&nbsp;&nbsp;</span>Path Planning</a></span><ul class=\"toc-item\"><li><span><a href=\"#General-overview\" data-toc-modified-id=\"General-overview-3.2.1\"><span class=\"toc-item-num\">3.2.1&nbsp;&nbsp;</span>General overview</a></span></li><li><span><a href=\"#Details-on-the-offline-section\" data-toc-modified-id=\"Details-on-the-offline-section-3.2.2\"><span class=\"toc-item-num\">3.2.2&nbsp;&nbsp;</span>Details on the offline section</a></span></li><li><span><a href=\"#Results-of-the-offline-part\" data-toc-modified-id=\"Results-of-the-offline-part-3.2.3\"><span class=\"toc-item-num\">3.2.3&nbsp;&nbsp;</span>Results of the offline part</a></span></li><li><span><a href=\"#Details-on-the-online-part\" data-toc-modified-id=\"Details-on-the-online-part-3.2.4\"><span class=\"toc-item-num\">3.2.4&nbsp;&nbsp;</span>Details on the online part</a></span></li><li><span><a href=\"#Results-of-the-online-part\" data-toc-modified-id=\"Results-of-the-online-part-3.2.5\"><span class=\"toc-item-num\">3.2.5&nbsp;&nbsp;</span>Results of the online part</a></span></li></ul></li><li><span><a href=\"#Global-Navigation\" data-toc-modified-id=\"Global-Navigation-3.3\"><span class=\"toc-item-num\">3.3&nbsp;&nbsp;</span>Global Navigation</a></span></li><li><span><a href=\"#Local-Navigation\" data-toc-modified-id=\"Local-Navigation-3.4\"><span class=\"toc-item-num\">3.4&nbsp;&nbsp;</span>Local Navigation</a></span><ul class=\"toc-item\"><li><span><a href=\"#Avoidance-Strategie\" data-toc-modified-id=\"Avoidance-Strategie-3.4.1\"><span class=\"toc-item-num\">3.4.1&nbsp;&nbsp;</span>Avoidance Strategie</a></span></li><li><span><a href=\"#Choosing-if-we-follow-the-obstacle-on-the-rigth-or-on-the-left\" data-toc-modified-id=\"Choosing-if-we-follow-the-obstacle-on-the-rigth-or-on-the-left-3.4.2\"><span class=\"toc-item-num\">3.4.2&nbsp;&nbsp;</span>Choosing if we follow the obstacle on the rigth or on the left</a></span></li><li><span><a href=\"#Regulators-to-follow-the-side-of-an-obstacle\" data-toc-modified-id=\"Regulators-to-follow-the-side-of-an-obstacle-3.4.3\"><span class=\"toc-item-num\">3.4.3&nbsp;&nbsp;</span>Regulators to follow the side of an obstacle</a></span></li><li><span><a href=\"#Determine-if-the-obstacle-is-cleared\" data-toc-modified-id=\"Determine-if-the-obstacle-is-cleared-3.4.4\"><span class=\"toc-item-num\">3.4.4&nbsp;&nbsp;</span>Determine if the obstacle is cleared</a></span></li></ul></li><li><span><a href=\"#Localization\" data-toc-modified-id=\"Localization-3.5\"><span class=\"toc-item-num\">3.5&nbsp;&nbsp;</span>Localization</a></span><ul class=\"toc-item\"><li><span><a href=\"#How-the-localization-works\" data-toc-modified-id=\"How-the-localization-works-3.5.1\"><span class=\"toc-item-num\">3.5.1&nbsp;&nbsp;</span>How the localization works</a></span><ul class=\"toc-item\"><li><span><a href=\"#Introduction\" data-toc-modified-id=\"Introduction-3.5.1.1\"><span class=\"toc-item-num\">3.5.1.1&nbsp;&nbsp;</span>Introduction</a></span></li><li><span><a href=\"#Odometry\" data-toc-modified-id=\"Odometry-3.5.1.2\"><span class=\"toc-item-num\">3.5.1.2&nbsp;&nbsp;</span>Odometry</a></span></li><li><span><a href=\"#Measurement\" data-toc-modified-id=\"Measurement-3.5.1.3\"><span class=\"toc-item-num\">3.5.1.3&nbsp;&nbsp;</span>Measurement</a></span></li><li><span><a href=\"#Why-a-particle-filter-?\" data-toc-modified-id=\"Why-a-particle-filter-?-3.5.1.4\"><span class=\"toc-item-num\">3.5.1.4&nbsp;&nbsp;</span>Why a particle filter ?</a></span></li></ul></li><li><span><a href=\"#Particle-filter\" data-toc-modified-id=\"Particle-filter-3.5.2\"><span class=\"toc-item-num\">3.5.2&nbsp;&nbsp;</span>Particle filter</a></span></li><li><span><a href=\"#The-system-of-classes\" data-toc-modified-id=\"The-system-of-classes-3.5.3\"><span class=\"toc-item-num\">3.5.3&nbsp;&nbsp;</span>The system of classes</a></span><ul class=\"toc-item\"><li><span><a href=\"#Moving_point\" data-toc-modified-id=\"Moving_point-3.5.3.1\"><span class=\"toc-item-num\">3.5.3.1&nbsp;&nbsp;</span>Moving_point</a></span></li><li><span><a href=\"#Particle\" data-toc-modified-id=\"Particle-3.5.3.2\"><span class=\"toc-item-num\">3.5.3.2&nbsp;&nbsp;</span>Particle</a></span></li><li><span><a href=\"#Pose\" data-toc-modified-id=\"Pose-3.5.3.3\"><span class=\"toc-item-num\">3.5.3.3&nbsp;&nbsp;</span>Pose</a></span></li></ul></li><li><span><a href=\"#Hyperparameters-:-How-to-make-the-code-work-on-my-Thymio-?\" data-toc-modified-id=\"Hyperparameters-:-How-to-make-the-code-work-on-my-Thymio-?-3.5.4\"><span class=\"toc-item-num\">3.5.4&nbsp;&nbsp;</span>Hyperparameters : How to make the code work on my Thymio ?</a></span><ul class=\"toc-item\"><li><span><a href=\"#Procedure-1:-Movements-1\" data-toc-modified-id=\"Procedure-1:-Movements-1-3.5.4.1\"><span class=\"toc-item-num\">3.5.4.1&nbsp;&nbsp;</span>Procedure 1: Movements 1</a></span></li><li><span><a href=\"#Procedure-2:-Colors\" data-toc-modified-id=\"Procedure-2:-Colors-3.5.4.2\"><span class=\"toc-item-num\">3.5.4.2&nbsp;&nbsp;</span>Procedure 2: Colors</a></span></li><li><span><a href=\"#Procedure-3:-Movements-2\" data-toc-modified-id=\"Procedure-3:-Movements-2-3.5.4.3\"><span class=\"toc-item-num\">3.5.4.3&nbsp;&nbsp;</span>Procedure 3: Movements 2</a></span></li></ul></li><li><span><a href=\"#Interfacing-:-How-to-use-the-localisation-module-?\" data-toc-modified-id=\"Interfacing-:-How-to-use-the-localisation-module-?-3.5.5\"><span class=\"toc-item-num\">3.5.5&nbsp;&nbsp;</span>Interfacing : How to use the localisation module ?</a></span></li></ul></li></ul></li><li><span><a href=\"#Conclusion\" data-toc-modified-id=\"Conclusion-4\"><span class=\"toc-item-num\">4&nbsp;&nbsp;</span>Conclusion</a></span></li><li><span><a href=\"#Annexes\" data-toc-modified-id=\"Annexes-5\"><span class=\"toc-item-num\">5&nbsp;&nbsp;</span>Annexes</a></span></li></ul></div>"
   ]
  },
  {
   "cell_type": "markdown",
   "id": "443bb75d-6bec-4dd7-a351-c1d4b9c12a9a",
   "metadata": {},
   "source": [
    "# Project Report"
   ]
  },
  {
   "cell_type": "markdown",
   "id": "9af006cc-9b86-43e0-b8b9-b80129743589",
   "metadata": {},
   "source": [
    "## Basics of Mobile Robotics, MICRO-452"
   ]
  },
  {
   "cell_type": "markdown",
   "id": "9d704bbd-049b-4300-b193-ad024750db29",
   "metadata": {},
   "source": [
    "### Mehdi Krichen, Francesco Nonis, Michael Richter, Vincent Philippoz, Nathan Decurnex"
   ]
  },
  {
   "cell_type": "markdown",
   "id": "b43dca7a-6a90-418b-bca9-321ef47e1c75",
   "metadata": {},
   "source": [
    "# Environment"
   ]
  },
  {
   "cell_type": "markdown",
   "id": "abf72940-d7c0-43e3-8eb8-50a44ab729a3",
   "metadata": {},
   "source": [
    "Our environment in which our thymio will evolve is a rectangle space composed of two A0 sheet. The size was choosen so that the Thymio could perform efficient and visible local avoidance moves.\n",
    "The background is green to imitate grass. It has been set to a uniform dark green to not intefer with the thymio's ground sensors (to contrast with the yellow of the crossroads).\n",
    "The world is also compose of roads and crossroads. The roads will be seen as obstacles. Obviously, the robot can use the crossroads to pass roads. The design of these modules stay simple: rectangular shapes. This is crucial to simplify the vision part. The crossroads were initially yellow and gray like real ones. But we further choose to change them to uniform yellow. This simplified the ground sensors measurements to update the filter, but made their detection in the vision part more difficult. \n",
    "\n",
    "The size of the crossroads and road were chosen to approximately be squares of Thymio's dimensions. At the beginning, we wanted to have another Thymio following the white line in the middle of the road. But the main part of the project took us more time than planned.\n",
    "\n",
    "<img src='img.jpg' width=\"400\">"
   ]
  },
  {
   "cell_type": "markdown",
   "id": "3b451f17-c044-48b1-9e12-fdf65fb29b55",
   "metadata": {},
   "source": [
    "# Implementation\n",
    "The implementation requires several libraries which can all be installed by running the following block."
   ]
  },
  {
   "cell_type": "code",
   "execution_count": 12,
   "id": "8f6c54f8",
   "metadata": {
    "ExecuteTime": {
     "end_time": "2021-12-12T18:13:13.013468Z",
     "start_time": "2021-12-12T18:13:13.000505Z"
    }
   },
   "outputs": [],
   "source": [
    "!pip install pandas matplotlib numpy import-ipynb opencv-python pyvisgraph"
   ]
  },
  {
   "cell_type": "markdown",
   "id": "ef1436b3-c595-4822-bbce-da6076ab3eb7",
   "metadata": {},
   "source": [
    "## Vision"
   ]
  },
  {
   "cell_type": "markdown",
   "id": "a756eedc-cb30-4ec3-b1cf-9d7e1f334084",
   "metadata": {},
   "source": [
    "The vision part of the project is essentially used at initialization. It will be used to build an initial obstacle map of the environment. The processing will also find the Thymio initial location and orientation, and the target to reach.\n",
    "\n",
    "At the start, a picture of the whole environment is taken. The first step is to trim the initial image to obtain a frame with only the environment. We first tried to found the 4 corners of the map in order to perform a reshaping to account for perspective. But the task of finding the corners was not so simple for several reasons. We tried to have one particular shape on each corner so that we could perform template matching with it. But it was hard to detect 4 time the same shape in our environmental conditions; even by filtering our image, other shapes in our environment had regularly more correlation with the template than the real one. We thus thought to change the shape for each corner, but we were limited in the choice of easy distinguishable colors and shape. Moreover, choosing a particular shape could make hard the template detection due to perspective. It why we wanted to have circles. A last factor that made hard edge detection via templatematching is that we do not know the exact size of the template on the image; template matching is very sensitive to the size of the object we are trying to match. In other word, to make work correctly template matching, we should know in advance the size in pixels of our template on the image.  \n",
    "\n",
    "Before trying some other fancy techniques, we wanted to have a backup. It was to simply mask the green background region of our environment via template matching. This allowed us to have a rather good cropping of the picture as long as it has been taken far away enough; to avoid having straight line deformations. The result was good enough to keep it. We could have tried line detection, but the roads or the floor pattern outside of our map would have also been detected. Sometime to stay simple is the good solution.  \n",
    "\n",
    "Once the image trimmed, Template matching is again used to detect all the objects on the map. The 4 patterns of turning roads (4 orientations) and the two orientation of straight lines were used to detect the roads. Even with such a simple design, the sensitivity and selectivity of template matching was quite poor. Luminosity is also a decisive factor when trying to detect objects. A lot of hyperparameter needed to be tuned in order to achieve a sufficient road detection. We could have gone for simple uniform gray roads: it would have simplified the template search (also faster computation) and improved the selectivity/sensitivity. But at the beginning, a second robot was planned to follow the road: the central white line would have been used to track the path. \n",
    "\n",
    "The crossroads were detected by the same way as the roads. As expected, the result is also highly depending on the tuning of hyperparameters and lighting. The target position was finally decided to be a simple circle. This allowed no orientation dependence: allowing one single template search.\n",
    "\n",
    "Finally, the Thymio robot is detected thanks to two very small circle placed strategically at the back and front of the robot. Once the circles detected by template matching, a simple calculation is done to obtain the robot hole's position and orientation. We also tried a data driven method: Convolutionnal Neural Network (CNN) and Support Vector Regression to extract the robot position from the image as input. The major issue was to collect data and label it. Simple trials with 25 data points yielded unsatisfying results and stopped our search in this direction. \n"
   ]
  },
  {
   "cell_type": "markdown",
   "id": "f38993d5-fae1-4293-b70d-1f327c411604",
   "metadata": {},
   "source": [
    "### Illustrations"
   ]
  },
  {
   "cell_type": "markdown",
   "id": "1ebb5d30-0ce4-49d5-bcd7-0c3d1236e609",
   "metadata": {},
   "source": [
    "In this section, we present sub-optimal results and particularities that can be observed from."
   ]
  },
  {
   "cell_type": "markdown",
   "id": "ee2dcbc1-cec7-4bf1-80b6-baa137a9b326",
   "metadata": {},
   "source": [
    "![env](images/angle1.jpg)\n",
    "\n",
    "![env](images/angle12.jpg)"
   ]
  },
  {
   "cell_type": "markdown",
   "id": "4e04aa06-c2a9-401f-b1e2-70d0584b2ef7",
   "metadata": {},
   "source": [
    "Above are illustrations on how sensitive the template matching, for a the road angle, is. The results for the four different orientation yielded the same kind of results showed above. This may be due to deformation of roads on the bottom of the image. The template matches better straight roads than certain correct road on the bottom.\n",
    "\n",
    "This situation only happens with real big images. When we were testing on smaller scaled map or screenshots of the map on the computer, this did not happen. This shows how image processing becomes harder in real conditions. We think that the template matching could have been improved a little bit: by taking the template image with the same camera that takes the real pictures shown. Currently, the template are the computer image (numerical ones)."
   ]
  },
  {
   "cell_type": "markdown",
   "id": "055ec289-e41f-4a50-b3f8-cdc9e1e890e0",
   "metadata": {},
   "source": [
    "This problem was essentially solved by using the high sensitivity of the template matching of the straight roads. This in some way is a bit cheating, but as long as it works...\n",
    "It was even our final way to find all the roads because it was the more robust we found. In fact the angle roads detection is useless at the end."
   ]
  },
  {
   "cell_type": "markdown",
   "id": "051863f0-b1b5-4f84-84c1-309a3ff65190",
   "metadata": {},
   "source": [
    "![env](images/rd2.jpg)"
   ]
  },
  {
   "cell_type": "markdown",
   "id": "cdf2bb29-8e49-43c8-a2ac-46598e11744c",
   "metadata": {},
   "source": [
    "![env](images/road44.jpg)"
   ]
  },
  {
   "cell_type": "markdown",
   "id": "6f3381a8-a137-4ef1-af5f-bc1cbc0c8af5",
   "metadata": {},
   "source": [
    "We can see at which point, even the wrong orientation of the road can be detected easily. Some crossroads are also captured in the process. Even some opposite orientation roads are detected while the correct orientation is not (see second illustration on the bottom, the template orientation can be deduced: horizontal roads). "
   ]
  },
  {
   "cell_type": "markdown",
   "id": "382259dd-a05b-4d06-b964-027ace759afb",
   "metadata": {},
   "source": [
    "![env](images/psg2.jpg)"
   ]
  },
  {
   "cell_type": "markdown",
   "id": "3ffff3ee-7f3d-47af-9027-1f3f84fe94fb",
   "metadata": {},
   "source": [
    "Note the crossroad design was change finally.\n",
    "Of course the same effect appears also for crossroads. The right crossroad is much more detected than the left one. If we want absolutely to detect the two horizontal crossroad, we need to decrease the threshold. This has a direct effect on the right crossroad: it appears larger; even some portion of the right crossroad combined to the road is more detectable than the left crossroad... \n",
    "\n",
    "The lighting is even more affecting the results than previously. We think it is because when the yellow is well lighted, it is almost seen like white from the camera. The figure shows a little bit this effect for the crossroad on the left of the image that appears brighter than the other ones.\n",
    "\n",
    "We finally decided to change the design of the crossroad to simplify the filter localization; uniform yellow. But it made their detection much harder. Finally, as the crossroads had no more white line in the middle, the road template matching could not anymore find them. So we could use only the straight lines pattern to extract all the road and by extent the crossroads; where the roads are not detected it is seen like a hole where the robot is allowed to pass."
   ]
  },
  {
   "cell_type": "markdown",
   "id": "9eb5327e-79e4-4512-a1d2-4e8813704895",
   "metadata": {},
   "source": [
    "### Real Code testing"
   ]
  },
  {
   "cell_type": "markdown",
   "id": "fcf5d874-b9ff-4d81-a844-f9ad5c532b1b",
   "metadata": {},
   "source": [
    "If you want a real test implementation of the Image Processing part, you can run the cell below. It will print the current progression of the process and show several plots showing each step."
   ]
  },
  {
   "cell_type": "code",
   "execution_count": null,
   "id": "a618581f-bb68-40c2-88f1-cbc41d584e2e",
   "metadata": {},
   "outputs": [],
   "source": [
    "%run IP/IP_methods.ipynb \n",
    "(x,y), orientation = pipeline_IP(plot=True)\n",
    "print(f'position of thymio is ({x},{y}), the x position is on the horizontal axis and y on the vertical axis. The zero is on the bottom left')\n",
    "print(f'its orientation is {orientation} [rad] (defined as [0,2Pi] with respect to the horizontal axis)') "
   ]
  },
  {
   "cell_type": "markdown",
   "id": "2d89a6ec-5dd7-4679-8f00-d964ff55012e",
   "metadata": {},
   "source": [
    "Globally, image processing is very hard. Robust method to lightning, object orientation, deformation or camera type etc.. do not really exist. All lot of testing needed to be done."
   ]
  },
  {
   "cell_type": "markdown",
   "id": "c53e4bc3-18a6-435c-a197-7e5b0cadd268",
   "metadata": {},
   "source": [
    "## Path Planning"
   ]
  },
  {
   "cell_type": "markdown",
   "id": "9e8e4a27-41ac-41a0-b4c6-b8b18e896d95",
   "metadata": {},
   "source": [
    "### General overview\n",
    "Many algorithms exist for path planning. The one used in this project is the vision graph method. It has many disadvantages when building the map, but once it is built, the computation is very quick. Other algorithms were explored, but in an effort to shorten the report, they are explored in the _PathPlanning.ipynb_ notebook.\n",
    "\n",
    "This whole algorithm is subdivided into two distinct parts. The first is the __offline__ part. This part is designed to be run only at the start of the run. It encapsulates all the steps in building a vision graph with all the nodes from a binary image of the obstacles. As it is offline, it doesn't require speed in execution. Therefore this wasn't a design constraint.\n",
    "The second part is the __online__ part. It regroups the calculation of the shortest path from a point A to a Point B in the given vision graph (built by the offline part). As this section of the code could be run during the actual run of the robot, execution time is a constraint.\n",
    "\n",
    "The first preliminary step is to define a coordinate system. We choose an arbitrary corner as the origin and choose the max axis coordinates to be the physical dimensions of our map in mm:\n",
    "> 2*A0 : 1682 x 1188 mm\n",
    "\n",
    "Once chosen, we can read the CSV file of the obstacles produced by the vision module of the project. First, the image is read, then saved for ease of use and easy access. Then the image is treated to reduce the effect of noise and converted to grayscale. The contours of each obstacle are then found noting carefully to which obstacle they belong. The obstacles are grown of the radius of a circle drawn around the Thymio to avoid the Thymio colliding with the obstacles. Then a vision graph is built according to the grown obstacles. Finally an _online_ part is defined, taking the position of the Thymio and the vision graph calculated before, the shortest path (according to norm 2 distances) is found between the start and the goal position.\n",
    "\n",
    "All of this can be summarized in the figure below:\n",
    "<img src='images_for_report/Global overview path planning.jpg' width=\"800\">\n",
    "The blue text represents what is transferred."
   ]
  },
  {
   "cell_type": "markdown",
   "id": "c6898827-7c94-4d9f-8ca8-77609572594e",
   "metadata": {},
   "source": [
    "### Details on the offline section\n",
    "As said above, the offline part regroups all the graph building sections of this part of the project. To separate further the problem, we will follow the division of the graph above. \n",
    "1. CSV Image to grayscale array\n",
    "> The first part is to read the actual map given by the vision graph. Some operation are conducted on the data to reduce the effect of noise (blurring), to make the image binary (thresholding). Finally we resize the image to get the coordinates in mm.\n",
    "2. Find contours of obstacles \n",
    "> The second part is to find the obstacles. Fortunately, in the openCV library has a very handy functions called :```cv2.findContours```\n",
    "> This allows us, by choosing the right options to obtain corners of the obstacles as well as which obstacle those corners belong to. Then we run another useful openCV function to approximate the polygons. This allows to simplify the graph.\n",
    "3. Grow the obstacles\n",
    "> The next step is to grow the obstacles. By finding the direction of the two segments connected to a given vertex, we can multiply it by the radius of the Thymio and move the point to be outside the polygon. As the polygons are not convex, we must check if the points are correctly placed. We do this for every vertex of every obstacle. Then we check if the points are outside of the map. If they are, we add a margin to block the Thyimo from choosing a path that exists the map.\n",
    "4. Build Vision Graph\n",
    "> The final step of the offline part is to build the actual vision graph. To do this, we use the library _pyvisgraph_ (see the PathPlanning.ipynb for link). This library calculates the best path using the Dijkstra algorithm with norm 2 distances. This library allows also to save the graph. This is done for easy access. \n",
    "5. Find Goal\n",
    "> An added part is to find the goal. This is done again by using the ```cv2.findContours``` function and finding the centroïd of the polygon.\n",
    "\n",
    "### Results of the offline part\n",
    "We can evaluate the effectiveness of the graph building by plotting the results of the graph building for an image. A code cell can be found below, it contains a lot of configuration but generally it allows to visualize the results."
   ]
  },
  {
   "cell_type": "code",
   "execution_count": 31,
   "id": "b7d638fa-81ce-4ecb-a979-79e078dff039",
   "metadata": {},
   "outputs": [
    {
     "name": "stderr",
     "output_type": "stream",
     "text": [
      "100%|██████████| 5/5 [00:00<00:00, 39.16it/s]\n"
     ]
    },
    {
     "data": {
      "image/png": "[encoded data removed]",
      "text/plain": [
       "<Figure size 1440x1440 with 4 Axes>"
      ]
     },
     "metadata": {
      "needs_background": "light"
     },
     "output_type": "display_data"
    },
    {
     "name": "stdout",
     "output_type": "stream",
     "text": [
      "[1587, 530]\n"
     ]
    }
   ],
   "source": [
    "#import import_ipynb\n",
    "#%run PathPlanning.ipynb\n",
    "stop = PathPlanning_offline(graph_name = \"output_for_report/graph\",\n",
    "                            csvPath = \"output_for_report/roads.csv\",\n",
    "                            savePath = \"output_for_report/csvIM.png\",\n",
    "                            goalPath = \"output_for_report/goal.csv\" ,\n",
    "                            goalsavePath = \"output_for_report/csvIM_goal.png\",\n",
    "                            desired_size = [2*841, 1188], #size of 2 A0 sheets \n",
    "                            smoothing_factor = 0.01,\n",
    "                            radius = 50,\n",
    "                            epsilon = 500,\n",
    "                            plot = True,\n",
    "                            verbose= False)\n",
    "print(stop)"
   ]
  },
  {
   "cell_type": "markdown",
   "id": "6d09e1ed-cb23-4f04-bb2c-812b9a0937b4",
   "metadata": {},
   "source": [
    "### Details on the online part\n",
    "The online part is simply the part that calculates the shortest path from the vision graph calculated in the offline part. This is again done with the _pyvisgraph_ library. This library provides a simple function to calculate the shortest path. This gives back an array of coordinates. \n",
    "### Results of the online part\n",
    "We can also plot the results of the shortest path fond with the green circle being the Thymio and the red cross the goal. Here we choose arbitrary points for the start and goal to be able to change them and observe the different paths computed."
   ]
  },
  {
   "cell_type": "code",
   "execution_count": 7,
   "id": "9aa5cafa-10f7-4a19-b67e-4e298d99de13",
   "metadata": {},
   "outputs": [
    {
     "data": {
      "image/png": "[encoded data removed]",
      "text/plain": [
       "<Figure size 720x720 with 1 Axes>"
      ]
     },
     "metadata": {
      "needs_background": "light"
     },
     "output_type": "display_data"
    }
   ],
   "source": [
    "start = [50, 50]\n",
    "goal = [1500, 1100]\n",
    "fig = plt.figure(figsize=(10,10))\n",
    "path, inObstacle = PathPlanning_online(graph_name = \"output_for_report/graph\",\n",
    "                                       start = start,\n",
    "                                       stop = goal,\n",
    "                                       savePath = \"output_for_report/csvIM.png\",\n",
    "                                       radius = 50,\n",
    "                                       plot = True)\n",
    "plt.show()"
   ]
  },
  {
   "cell_type": "markdown",
   "id": "6c8efdd2-7753-4f86-89f3-ee7fdfeb58cf",
   "metadata": {},
   "source": [
    "One of the main design constraints is also execution time. However, to be as effective as possible, we wont be plotting the results. Again, the start and goal positions are arbitrary to observe the effect of changing them."
   ]
  },
  {
   "cell_type": "code",
   "execution_count": 36,
   "id": "192da80f-7477-428c-827f-d2b44d1319b2",
   "metadata": {},
   "outputs": [
    {
     "name": "stdout",
     "output_type": "stream",
     "text": [
      "The longest time the algorithm took to compute was  0.023962736129760742  and the shortest time to execute was  0.0069806575775146484\n"
     ]
    }
   ],
   "source": [
    "import time\n",
    "start = [50, 50]\n",
    "goal = [1500, 1100]\n",
    "min_time = np.Inf\n",
    "max_time = 0\n",
    "for i in range(1000):\n",
    "    stime = time.time()\n",
    "    _,_ = PathPlanning_online(graph_name = \"output_for_report/graph\",\n",
    "                                           start = start,\n",
    "                                           stop = goal)\n",
    "    if (time.time()-stime)>max_time:\n",
    "        max_time = time.time()-stime\n",
    "    elif (time.time()-stime)<min_time:\n",
    "        min_time = time.time()-stime\n",
    "\n",
    "print(\"The longest time the algorithm took to compute was \", max_time,\n",
    "      \" and the shortest time to execute was \", min_time)"
   ]
  },
  {
   "cell_type": "markdown",
   "id": "a1147d65-8998-45a4-add4-cde736a30dce",
   "metadata": {},
   "source": [
    "We can observe short execution times in general. This confirms the ability of this module to be run during the run of the robot.\n",
    "\n",
    "Then we have a final demo to plot the evolution of the graph while advancing on a path. This is added at the end in the Annexes chapter."
   ]
  },
  {
   "cell_type": "markdown",
   "id": "07253ee3-3d97-4dce-8a09-a8122aa99d84",
   "metadata": {},
   "source": [
    "## Global Navigation"
   ]
  },
  {
   "cell_type": "markdown",
   "id": "31615c66-79c2-422b-bb77-37ab10cfe840",
   "metadata": {},
   "source": [
    "## Local Navigation\n",
    "The local navigation module is responsible of making the Thymio avoid unexpected obstacles that were not present in the map when taking the initial picture."
   ]
  },
  {
   "cell_type": "markdown",
   "id": "f4a445d5",
   "metadata": {},
   "source": [
    "### Avoidance Strategie\n",
    "\n",
    "As an obstacle avoidance strategy we choose to follow the side of an obstacle when encoutering one until the direction between the Thymio and it's next goal point is free. The obstacle are detected thanks to the 5 front proximity sensors. When the proximity sensors measure is greater than some defined threshold, we interpret it as an obstacle. Different Thresholds were given to the 5 proximity sensors. The 3 central ones were given a thresold value of 1500. We determined empirically that the proximity sensors jumped from 0 to a value slightly smaller than 1500 when an object is placed in front of them. The two outmost sensors were given a higher threshold of 1800. We did this because since the outmost sensors are oriented toward the exterior of the robot (they make an angle of 45° with respect to the central axis of the robot), they can detect objects that the that are close to the path of the Thymio but that the Thymio would effectively avoid. We notice that typically in this situation, the proximity sensors gave some same values (around 1500). By testing different threshold we found that 1800 gave a good compromise between not reacting to onstacle that are not actually in the way of the robot and reacting to the one it would effectiely hit. The function implementing this is given below"
   ]
  },
  {
   "cell_type": "code",
   "execution_count": null,
   "id": "6845a823",
   "metadata": {},
   "outputs": [],
   "source": [
    "def obstacle_detected(proximity_sensor, OBST_THRESH=2000):\n",
    "    \"\"\"\n",
    "        determine if an obstacle is detected by the proximity sensor provided in the argument\n",
    "        \n",
    "        Arguments: proximity_sensor: double containing the value of the inquired sensor\n",
    "                   OBST_THRESH     : threshold at which we consider an obstacle is detected\n",
    "        Return:    obstacle        : bool, True if an obstacle is detected, False otherwise\n",
    "    \"\"\"\n",
    "\n",
    "    obstacle = False\n",
    "    \n",
    "    if proximity_sensor >= OBST_THRESH:\n",
    "            obstacle = True\n",
    "    \n",
    "    return obstacle"
   ]
  },
  {
   "cell_type": "markdown",
   "id": "f0101a76",
   "metadata": {},
   "source": [
    "### Choosing if we follow the obstacle on the rigth or on the left\n",
    "One of the first thing question we encounter when we are confronted to an obstacle is to choose the side from which we avoid it. In other words, does the Thymio have to avoid the obstacle by following it on the right or on the left as illustrated in the image below ?\n",
    "\n",
    "<img src='images_for_report/Thymio_avoidance1.JPG' width=\"400\">\n",
    "\n",
    "One solution would be to always choose the same side. But we can make a more educated guess. We wanted to make the Thymio avoid the obstacle in a way that would seem the more optimal. To do this we consider two things: the values measured by the proximity sensors and the position of the Thymio with respect to the it's next goal point. We wanted to make the Thymio make a decision that ponders the fact of avoiding the Thymio from the side that would take us closer to the goal point but in the same time we want to consider the fact that the proximity sensors might tells us that the obstacle is only on one side and it would therefore be more natural and faster to avoid the obstacle from this side than to make the robot make a big reorientation to follow the obstacle from the other side as illustrated below :\n",
    "\n",
    "<img src='images_for_report/Thymio_avoidance2.JPG' width=\"400\">\n",
    "\n",
    "To consider those two aspects (distance from goal and proximity sensors measures) we make a cost function that ponders the two. We compute the cost of taking one side in the following manner. We decompose the cost into two sub-cost: a cost related to the distance from the goal and a cost related to the proximity sensors. The cost related to the goal is the following. If we compute the cost of avoiding the obstacle from the direction that takes us away from the objective (ex: going right when our goal is on the left of the thymio), we compute the distance from the Thymio and the goal and multiply it by a weighting factor. Otherwise, if we choose the side that takes us closer to the goal, the cost is 0. The cost related to the proximity sensors is computed in an analog manner. We split the proximity sensors in two parts: the ones on the left and the ones on the right and we compute the sum of all the proximity sensors of each group. If we choose to go on the side on which the sum of proximity sensor have the highest value, the cost related to the proximity sensors is the sum of the proximity sensors measured of that side times a weighing factor (this situation correspond of choosing left in the image above). Otherwise, if we take the side for which the proximity sensor sum is the smallest, the cost is 0. Once we calculated those two cost (goal distance cost and proximity cost) we take their sum to get the total cost of choosing one side. We then compute the cost of each side and we chose to follow the side for which the cost is the smallest. The determination of the weighting facto was done empirically.\n",
    "\n",
    "<img src='images_for_report/cost.JPG' width=\"800\">\n",
    "\n",
    "The functions that implement the main part of the cost are the following:"
   ]
  },
  {
   "cell_type": "code",
   "execution_count": 1,
   "id": "0c49add8",
   "metadata": {
    "ExecuteTime": {
     "end_time": "2021-12-12T17:45:32.096605Z",
     "start_time": "2021-12-12T17:45:32.086619Z"
    },
    "code_folding": [
     0
    ]
   },
   "outputs": [],
   "source": [
    "def proximity_cost(prox_horiz, left_side):\n",
    "    \n",
    "    '''compute the cost related to the value measured by the proximity sensors when chosing a side\n",
    "       or the other when in front of an obstacle. If the proximity sensors on have a high value \n",
    "       compared to the other, the cost of chosing that side will be higher than chosing the other side\n",
    "       \n",
    "       Arguments: prox_horiz : array containing the value of the 7 horizontal prox sensors\n",
    "                  left_side  : bool: is true if we want to check the cost of chosing the left side\n",
    "                                     false if we want the cost of chosing the right side\n",
    "                                     \n",
    "      Return:     cost associated to the proximity sensor\n",
    "    '''\n",
    "    \n",
    "    #weight of proximitys\n",
    "    alpha = 0.1\n",
    "    \n",
    "    #to evaluate which side is the closest to the obstacle we just do the sum of the two left most proximity sensor and same \n",
    "    #for the right, we then simply do the sum\n",
    "    \n",
    "    left_prox_sum = prox_horiz[0]+prox_horiz[1]\n",
    "    right_prox_sum = prox_horiz[3]+prox_horiz[4]\n",
    "    \n",
    "    if left_prox_sum>right_prox_sum:\n",
    "        if left_side:\n",
    "            return alpha*abs(left_prox_sum-right_prox_sum)\n",
    "        else:\n",
    "            return 0\n",
    "    else:\n",
    "        if left_side:\n",
    "            return 0\n",
    "        else:\n",
    "            return alpha*abs(left_prox_sum-right_prox_sum)"
   ]
  },
  {
   "cell_type": "code",
   "execution_count": null,
   "id": "c0e78604",
   "metadata": {
    "code_folding": [
     0
    ]
   },
   "outputs": [],
   "source": [
    "def goal_side_cost(tm_pos, tm_orient, goal_pos, left_side):\n",
    "    \"\"\"compute the cost related to the position of the thymio with respect to it's next goal\n",
    "       when chosing a side or the other when in front of an obstacle.\n",
    "       Chosing a side that takes us to away from the next goal results in a higher cost\n",
    "       \n",
    "       Arguments: tm_pos     : array with the position coordinates of the thymio\n",
    "                  tm_orient  : double containing the orientation of the Thymio in rad in 0-2*pi\n",
    "                  goal_pos   : array with position of the goal     \n",
    "                  left_side  : bool: is true if we want to check the cost of chosing the left side\n",
    "                               false if we want the cost of chosing the right side\n",
    "                                     \n",
    "      Return:     cost \n",
    "    \"\"\"\n",
    "    \n",
    "    \n",
    "    \n",
    "\n",
    "    #checking if the Thymio is rather oriented along the x or the y axis and pointing to + or - the x pr y axis\n",
    "    x_oriented_pos = False\n",
    "    x_oriented_neg = False\n",
    "    y_oriented_neg = False\n",
    "    y_oriented_pos = False\n",
    "    \n",
    "    if ((tm_orient >= 7*math.pi/4) and (tm_orient <= 2*math.pi)) or ((tm_orient <= math.pi/4) and (tm_orient >= 0)):  \n",
    "        x_oriented_pos = True\n",
    "            \n",
    "    if ((tm_orient >= 3*math.pi/4) and (tm_orient <= 5*math.pi/4)):\n",
    "        x_oriented_neg = True\n",
    "        \n",
    "    \n",
    "    if ((tm_orient > math.pi/4) and (tm_orient < 3*math.pi/4)):\n",
    "        y_oriented_pos = True\n",
    "        \n",
    "    \n",
    "    if ((tm_orient > 5*math.pi/4) and (tm_orient < 7*math.pi/4)):\n",
    "        y_oriented_neg = True\n",
    "        \n",
    "    \n",
    "    \n",
    "    #computation of the cost\n",
    "    Betha = 0.5\n",
    "    \n",
    "    #check which of the Thymio or the goal position has the larger x and y coordinate\n",
    "    x_goal_larger = goal_pos[0] >= tm_pos[0]\n",
    "    y_goal_larger = goal_pos[1] >= tm_pos[1]\n",
    "    print(\"tm pos\")\n",
    "    print(tm_pos)\n",
    "    print(\"goal_pos\")\n",
    "    print(goal_pos)\n",
    "    \n",
    "    if x_oriented_pos:\n",
    "    \n",
    "        if y_goal_larger:\n",
    "            print(\"y_larger\")\n",
    "            if left_side:\n",
    "                return 0\n",
    "            else:\n",
    "                return Betha*abs(tm_pos[1]-goal_pos[1])\n",
    "        else:\n",
    "            if left_side:\n",
    "                 return Betha*abs(tm_pos[1]-goal_pos[1])\n",
    "            else:\n",
    "                return 0\n",
    "    \n",
    "        \n",
    "    if x_oriented_neg:\n",
    "        \n",
    "        if y_goal_larger:\n",
    "            if left_side:\n",
    "                return Betha*abs(tm_pos[1]-goal_pos[1])\n",
    "            else:\n",
    "                return 0\n",
    "        else:\n",
    "            if left_side:\n",
    "                return 0\n",
    "            else:\n",
    "                 return Betha*abs(tm_pos[1]-goal_pos[1])\n",
    "    \n",
    "        \n",
    "    if y_oriented_pos:\n",
    "        \n",
    "        if x_goal_larger:\n",
    "            if left_side:\n",
    "                 return Betha*abs(tm_pos[0]-goal_pos[0])\n",
    "            else:\n",
    "                return 0\n",
    "        else:\n",
    "            if left_side:\n",
    "                return 0\n",
    "            else:\n",
    "                 return Betha*abs(tm_pos[0]-goal_pos[0])\n",
    "    \n",
    "    if y_oriented_neg:\n",
    "        \n",
    "        if x_goal_larger:\n",
    "            if left_side:\n",
    "                return 0\n",
    "            else:\n",
    "                 return Betha*abs(tm_pos[0]-goal_pos[0])\n",
    "        else:\n",
    "            if left_side:\n",
    "                return Betha*abs(tm_pos[0]-goal_pos[0])\n",
    "            else:\n",
    "                return 0"
   ]
  },
  {
   "cell_type": "markdown",
   "id": "1e4c892f",
   "metadata": {},
   "source": [
    "### Regulators to follow the side of an obstacle\n",
    "Once we have chosen from which side to follow the obstacle, we want to follow it's contour until the path to the goal is free again. To do this we implemented a PID regulator composed of three sub-PID controller. We take the the three proximity sensors of the side we follow (from the outest to the middle one) and we define for each one of them a different sub-PID regulator target. The two middle one have a target of 0 (we do not want any obstacle directly in front of the thymio) while the  outest sensor has a target value of 2000 which corresponds to about 2 cm in distance if the Thymio side is aligned with the side of the obstacle. Each sub-PID controller computes a component of the final speed to assign the motors and we then take the sum of each one of the three sub-PID controller to get the final speed that we assign the motor. The reason why we choose to separate the PID controller in three sub PID controller is because we want to have some different dynamics depending on the position of the obstacle with respect to the thymio. If the obstacle is right in front of the thymio, we want the Thymio to very quickly change it's direction so that it does not bump into the obstacle. Therefore the regulators related to the central proximity sensors will have a large proportional gain. On the other hand if the obstacle is on the side of the robot, we do not want the Thymio to react extremely fast because on one hand we do not care of following all the details of the shape of the obstacle but we rather want to follow the general shape of the obstacle. On the other hand we must consider that the position of the proximity sensors do not allow to have a good vision of what is on the side of the robot, they have a rather large blind spot (see the image below). Therefore, if the dynamics related the outest proximity sensor, as soon as the obstacle falls in the blind spot of the robot, the thymio would turn to reach it's target value even though the thymio still has not avoided the obstacle. By choosing slower dynamics for the PID related to this sensor, the Thymio will turn more slowly and therefore will not bump into the obstacle. \n",
    "\n",
    "<img src='images_for_report/Thymio_avoidance3.JPG' width=\"800\">"
   ]
  },
  {
   "cell_type": "markdown",
   "id": "54ee3148",
   "metadata": {},
   "source": [
    "### Determine if the obstacle is cleared\n",
    "To determine if the obstacle is cleared, we count a number of consecutive refresh iteration where the proximity sensor sense nothing before confirming that the obstacle is cleared. We do this in case there is some overshoot in changing direction to avoid the obstacle or follow the obstacle contour. That way we are absolutely sure we have cleared the obstacle.\n",
    "To determine if the path to the obstacle is free, we first compute the angle of the vector that connects the Thymio position to the goal which corresponds to the direction the Thymio has to take. From that we can determine if the obstacle is in the visibility angle of view of the proximity sensors, if it is on the left of the Thymio or on the right. If the obstacle is in the visibility angle of the Thymio we check if any of the sensor detects an obstacle. If the goal is on the left of the Thymio, we check if the outest sensor on the left sees an obstacle or not. If the obstacle is on the right we do the same thing using the outest sensor on the right. The function implementing this is given below:"
   ]
  },
  {
   "cell_type": "code",
   "execution_count": null,
   "id": "56bfafb2",
   "metadata": {
    "code_folding": [
     0
    ]
   },
   "outputs": [],
   "source": [
    "def path_to_goal_free(tm_orient, tm_pos, goal_pos, proximity_sensors):\n",
    "    \"\"\"\n",
    "        determines if in the general direction of the goal, i.e. left, right or front, an obstacle \n",
    "        is in the way, hence if the path to goal is free.\n",
    "        \n",
    "        Argument:  tm_orient  : double of the thymio orientation in rad in 0-2pi\n",
    "                   tm_pos     : array of coordinates of the thymio position\n",
    "                   proximity_sensors : array of horizontal proximity sensors values\n",
    "                   goal_pos   : array of coordinated of the goal position\n",
    "                       \n",
    "    \"\"\"\n",
    "    \n",
    "    #the goal direction is obstacle free\n",
    "    goal_clear = True\n",
    "    \n",
    "    #determine where is the obstacle with respect to the Thymio\n",
    "    goal_front = False\n",
    "    goal_right = False\n",
    "    goal_left = False\n",
    "    \n",
    "    #We start by getting the angle between the x-axis and the vector connecting the goal to the thymio\n",
    "    theta = math.atan2(goal_pos[1]-tm_pos[1], goal_pos[0]-tm_pos[0])\n",
    "    \n",
    "    if theta < 0:\n",
    "        theta += math.pi*2\n",
    "        \n",
    "    \n",
    "    #checking position of goal with respect to thymio view angle\n",
    "    \n",
    "    #We start by checking if the thymio is in the visibility of the proximity sensors view angle\n",
    "    if tm_orient >= math.pi/4 and tm_orient <= 7*math.pi/4:\n",
    "        \n",
    "        \n",
    "        if theta >= tm_orient-math.pi/4 and theta <= tm_orient+math.pi/4:\n",
    "            goal_front = True\n",
    "            #print(\"FRONT1\")\n",
    "            \n",
    "            \n",
    "    if tm_orient >= 0 and tm_orient < math.pi/4:\n",
    "        \n",
    "        if (theta >= 0 and theta <= tm_orient+math.pi/4) or (theta>= 7*math.pi/4):\n",
    "            goal_front = True\n",
    "            #print(\"FRONT2\")\n",
    "    \n",
    "    if tm_orient > 7*math.pi/4:\n",
    "        \n",
    "        if (theta >= tm_orient-math.pi/4) or (theta <= tm_orient- 7*math.pi/4):\n",
    "            goal_front = True\n",
    "            #print(\"Front3\")\n",
    "    \n",
    "    #checking if the goal is on the left or right side of the robot\n",
    "    if tm_orient <= math.pi and (not goal_front):\n",
    "        if theta >= tm_orient and theta <=math.pi+tm_orient:\n",
    "            goal_left = True\n",
    "            \n",
    "        else:\n",
    "            goal_right = True\n",
    "            #print(\"Right\")\n",
    "    \n",
    "    if tm_orient > math.pi and (not goal_front):\n",
    "        if theta >= tm_orient-math.pi and theta < tm_orient:\n",
    "            goal_right = True\n",
    "            #print(\"left\")\n",
    "        else:\n",
    "            goal_left = True\n",
    "            #print(\"right\")\n",
    "            \n",
    "    #now that the position of the robot with respect to the robot angle of vision is determined, we can determine if there is an obstacle\n",
    "    #Threshold for obstacle on the side\n",
    "    THRESH_SIDE = 1500\n",
    "    #Threshold for obstacle detection on front\n",
    "    THRESH_FRONT_CENTRAL = 1500 #Threshold for central prox\n",
    "    THRESH_FRONT_SIDE = 1700   #Threshold for the prox between central and outest\n",
    "    THRESH_FRONT_OUTEST = 2000 #Thresjold for outest proximity sensors\n",
    "    \n",
    "     \n",
    "    \n",
    "    if goal_front:\n",
    "\n",
    "        if (obstacle_detected(proximity_sensors[2],THRESH_FRONT_CENTRAL) or \n",
    "            obstacle_detected(proximity_sensors[3],THRESH_FRONT_SIDE) or\n",
    "            obstacle_detected(proximity_sensors[1],THRESH_FRONT_SIDE) or\n",
    "            obstacle_detected(proximity_sensors[0],THRESH_FRONT_OUTEST) or\n",
    "            obstacle_detected(proximity_sensors[4],THRESH_FRONT_OUTEST)):\n",
    "            \n",
    "            goal_clear = False\n",
    "            #print(\"obst front\")\n",
    "            \n",
    "    if goal_left:\n",
    "        if obstacle_detected(proximity_sensors[0],THRESH_SIDE):\n",
    "            \n",
    "            goal_clear = False\n",
    "            #print(\"obst left\")\n",
    "    \n",
    "    if goal_right:\n",
    "         if obstacle_detected(proximity_sensors[4],THRESH_SIDE):\n",
    "            \n",
    "            goal_clear = False\n",
    "            #print(\"obst right\")\n",
    "            \n",
    "    return goal_clear"
   ]
  },
  {
   "cell_type": "markdown",
   "id": "4da020e2-887e-4313-b68c-8479b2c49768",
   "metadata": {},
   "source": [
    "## Localization\n",
    "### How the localization works\n",
    "#### Introduction\n",
    "The localization module objective is to estimate the Thymio's pose during the execution of the other modules. To achieve this goal, the module implements a particle filter which uses the motors speeds and the the ground proximity sensors. It proceeds in two steps : Odometry and Measurement.\n",
    "\n",
    "#### Odometry \n",
    "The odometry does the apriori estimation of the position by using the motors speeds and a model of the Thymio. The model is taken from the book *Elements of Robotics* by *Mordechai Ben-Ari and Francesco Mondada*, chapter 5.6.\n",
    "\n",
    "<img src='images_for_report/odometry_from_book.png' width=\"400\">\n",
    "\n",
    "It is assumed that we know $b$ the wheelbase, $d_l$ and $d_r$ the distance traveled by the left and right wheels respectively, $(x,y,\\phi)$ the initial pose. We want to compute the new pose $(x',y',\\phi')$. \n",
    "\n",
    "First, we compute $\\theta$, the angle of the arc followed by the robot. As the displacement is considered small, we can approximate $sin(x) \\approx x$. This means that we get $\\theta = \\frac{d_r-d_l}{b}$.\n",
    "\n",
    "Now we can find the vertical and horizontal displacements with these equations:\n",
    "\n",
    "$dx = \\frac{dl+dr}{2} cos(\\phi_0 + \\frac{\\theta}{2})$ ; $dy = \\frac{dl+dr}{2} sin(\\phi_0 + \\frac{\\theta}{2})$\n",
    "\n",
    "Finally, the new pose is given by:\n",
    "\n",
    "$(x_1,y_1,\\phi_1) = (x_0 + dx, y_0 +dy, \\phi_0+\\theta)$\n",
    "\n",
    "In the context of the map, the robot position is defined as follow:\n",
    "\n",
    "<img src='images_for_report/thymio_top_schema.png' width=\"150\">\n",
    "\n",
    "This image represents the Thymio seen from above. The dot represents the origin of the Thymio, the two grey rectangles are the ground sensors and the black rectangles are the wheels. The robot evolves in the same system of coordinates as the map.\n",
    "\n",
    "#### Measurement\n",
    "To add a feedback on the apriori odometry, the ground sensors measure the color of the map below the Thymio. This information is compared to the expected color given by the map.\n",
    "\n",
    "#### Why a particle filter ?\n",
    "At first, we wanted to implement a Kalman filter. However, as the Thymio's dynamics are non-linear, this solution was not feasible. The particle filter was chosen because of its robustness, execution speed and relative ease of implementation. Also, we thought it was interesting to implement this type of filter, as it was not done during the exercises."
   ]
  },
  {
   "cell_type": "markdown",
   "id": "6a754b09",
   "metadata": {},
   "source": [
    "### Particle filter\n",
    "*A tutorial on how to implement a particle filter is presented [here](https://salzis.wordpress.com/2015/05/25/particle-filters-with-python/). Also, [this YouTube video](https://www.youtube.com/watch?v=aUkBa1zMKv4&ab_channel=AndreasSvensson) explains the basic principle of a particle filter.*\n",
    "\n",
    "The particle filter pseudocode is presented below:\n",
    "```python\n",
    "def particle_filter_one_step(particles, meas, Pt, Ps):\n",
    "    '''\n",
    "    Short: returns a set of particles for the next time step\n",
    "    \n",
    "    Inputs: \n",
    "    - particles: a vector of particles positions\n",
    "    - meas: the new incoming measurement\n",
    "    - Pt: a transition model Pt(new_position | old_position) (probability density function)\n",
    "    - Ps: a sensor model Ps(measurement | position) (probability density function)\n",
    "\n",
    "    Local variables: \n",
    "    - W: a vector of weights of the same size as Particles\n",
    "    '''\n",
    "    N = len(Particles) # number of particles\n",
    "    \n",
    "    for i in range(N):\n",
    "        # step 1: Transition for each particle\n",
    "        new_position = sample form Pt(new_position | particles[i])\n",
    "        particles[i] = new_position\n",
    "\n",
    "        # step 2: Assign weight to particles given the measurement\n",
    "        W[i] = Ps(meas | particles[i])\n",
    "\n",
    "        # step 3: Resample the particles\n",
    "        particles = resample(N, particles, W)\n",
    "    return [particles, W]\n",
    "\n",
    "particles = initial position of the robot\n",
    "while robot is moving:\n",
    "    old_robot_position = robot.position\n",
    "    # robot moves\n",
    "    meas = robot.measure()\n",
    "    Pt = robot.Pt\n",
    "    Ps = robot.Ps\n",
    "    [particles, Weights] = particle_filter_one_step(particles, meas, Pt, Ps)\n",
    "    robot.position = weighted_mean(particles, Weights)\n",
    "    robot.direction = weighted_vectorial_sum(particles)\n",
    "```\n",
    "\n",
    "The **transition** step is implemented using the ```_apriori_odometry``` function from the ```Moving_point``` class. To simulate the input noise (motor noise), the speed considered for the odometry is a random value generated by a gaussian. Its mean is the measured motor speed, and its standard deviation represents the measured speed noise (which is a hyperparameter).\n",
    "\n",
    "Each particles is assigned a **weight** which represents how likely it is that the particle is at the same spot than the real robot. This weight is the probability of the real measurement being generated by the particle. For example, if the ground sensor measures \"320\" and the expected measure at the particle location is \"120\", then the weight would be very small as it is very unlikely that the particle is at the same spot as the robot.\n",
    "\n",
    "A key part of the code is the **resampling**. step. In our case, it is simply implemented with a weighted random selection. As it makes no sense to resample particles of similar likelihood, the resampling is done only when the particles have diverse weights.\n",
    "\n",
    "\n",
    "\n",
    "Finally, once the particle filter step is done, the particles data is used to **estimate the robot pose**. The estimated position is the weighted average of the particles, and the estimated orientation is the vectorial weighted sum of all the particles directions.\n",
    "\n",
    "The result of the particle filter can be seen on the plot below:\n",
    "\n",
    "<img src='images_for_report/particles_spread.png' width=\"500\">\n",
    "The shape traced in either green or red represents the Thymio, the colorful dots are the particles. Here we represent the Thymio with 100 particles every 20 iterations for the sake of clarity. When the particles get dispersed, the localisation confidence lowers. When the spread gets too big, the ```isLost``` flag is turned on and the Thymio becomes red on the plot. \n",
    "\n",
    "To implement the particle filter in a clean way, a system of classes is used."
   ]
  },
  {
   "cell_type": "markdown",
   "id": "49c83ac9",
   "metadata": {},
   "source": [
    "### The system of classes\n",
    "The localization module consists of 3 classes:\n",
    "* ```Moving_point```: This is the base class. It defines the main functions.\n",
    "* ```Particle```: This class inherits the properties of ```Moving_point``` and adds some methods adapted to particles.\n",
    "* ```Pose```: This class inherits the properties of ```Moving_point``` and adds some methods adapted to a global point of view. This is the class used for interfacing with the other modules.\n",
    "\n",
    "#### Moving_point\n",
    "The ```Moving_point``` class entails the properties of an ideal Thymio robot. It can memorises its pose, do apriori odometry and check if the ground proximity sensors are out of the map. Also, getter and setter functions are provided to interface it if necessary.\n",
    "\n",
    "#### Particle\n",
    "The ```Particle``` class is used to simulate a particle of the particle filter. As a particle is simply an ideal Thymio, the ```Particle``` class inherits all the attributes of the ```Moving_point``` class. Furthermore, the particle is given a weight and some methods to compute it. The apriori odometry is also a bit modified to simulate the motor noise. Finally, a plotting function is added.\n",
    "\n",
    "#### Pose\n",
    "The ```Pose``` class is in charge of running the particle filter and processing the results. To do so, it is itself a ```Moving_point``` with some extra attributes and methods. These new properties allow the ```Pose``` class to simulate the particles, compute their weights, resample and estimate the position of the real Thymio. All of this is done with one call of the function ```update```."
   ]
  },
  {
   "cell_type": "markdown",
   "id": "16ddff02",
   "metadata": {
    "tags": []
   },
   "source": [
    "### Hyperparameters : How to make the code work on my Thymio ?\n",
    "Every Thymio has unique characteristics. Therefore, one must calibrate some hyperparameters to expect good performances of the odometry. The hyperparameters to tune are :\n",
    "* ```SPEED_STD```: The standard deviation of each motor\n",
    "* ```PROX_L_STD```: The standard deviation of the left ground sensor\n",
    "* ```PROX_R_STD```: The standard deviation of the right ground sensor\n",
    "* ```FEATURE2PROX_L```: The mean value read by the left ground sensor for each color\n",
    "* ```FEATURE2PROX_R```: The mean value read by the right ground sensor for each color\n",
    "* ```SPEED_CONVERSION_FACTOR```: The conversion factor to go from Thymio units to mm/s.\n",
    "\n",
    "To tune all these values, the next procedures have to be followed.\n",
    "\n",
    "#### Procedure 1: Movements 1\n",
    "To make the movement calibration, you can run the code below. It will set ```SPEED_STD```, ```PROX_L_STD``` and ```PROX_R_STD```.\n",
    "\n",
    "```python\n",
    "speeds_l = []\n",
    "speeds_r = []\n",
    "proxs_l = []\n",
    "proxs_r = []\n",
    "\n",
    "for s in range(len(speed_to_test)):\n",
    "    # Start the motors\n",
    "    motor_left_target = speed\n",
    "    motor_right_target = speed\n",
    "    \n",
    "    # Measure the speeds\n",
    "    for i in range(nb_calibration_samples):\n",
    "        speeds_l.append(motor_left_speed)                \n",
    "        speeds_r.append(motor_right_speed)\n",
    "        proxs_l.append(prox_ground_delta[0])\n",
    "        proxs_r.append(prox_ground_delta[1])\n",
    "        sleep(period)\n",
    "    \n",
    "    # Stop the motors\n",
    "    motor_left_target = 0\n",
    "    motor_right_target = 0\n",
    "    \n",
    "# Compute the standard deviations\n",
    "SPEED_STD[0][str(s)] = np.std(speeds_l)\n",
    "SPEED_STD[1][str(s)] = np.std(speeds_r)\n",
    "PROX_L_STD = np.std(proxs_l)\n",
    "PROX_R_STD = np.std(proxs_r)\n",
    "```\n",
    "\n",
    "#### Procedure 2: Colors\n",
    "To make the color calibration, you can run the code below. It will set ```FEATURE2PROX_L``` and ```FEATURE2PROX_L```.\n",
    "```python\n",
    "for color in colors_to_test:\n",
    "    proxs_l = []\n",
    "    proxs_r = []\n",
    "\n",
    "    # Measure the color\n",
    "    print(f\"Place the robot on '{color}' in the next 5 seconds.\")\n",
    "    sleep(5) # To have time to move the robot\n",
    "    for i in range(nb_calibration_samples):\n",
    "        proxs_l.append(prox_ground_delta[0])\n",
    "        proxs_r.append(prox_ground_delta[1])\n",
    "        sleep(period)\n",
    "\n",
    "    # Compute the mean measurement\n",
    "    FEATURE2PROX_L[color] = np.mean(proxs_l)\n",
    "    FEATURE2PROX_R[color] = np.mean(proxs_r)\n",
    "```\n",
    "\n",
    "#### Procedure 3: Movements 2\n",
    "Only one hyperparameters has to be tuned by hand : ```SPEED_CONVERSION_FACTOR```. To do so, place the Thymio on the map, with a straight line access to its objective. Run the global code until the Thymio stops. If it overshot the goal, increase the  ```SPEED_CONVERSION_FACTOR```. If it undershot, do the opposite. Repeat the process until the results are satisfying."
   ]
  },
  {
   "cell_type": "markdown",
   "id": "f007114a",
   "metadata": {},
   "source": [
    "### Interfacing : How to use the localisation module ?\n",
    "To run the odometry, one must first create an instance of the class Pose:\n",
    "```python\n",
    "myPose = Pose(x=x0, y=y0, theta=theta0)\n",
    "```\n",
    "You can also set ```isLost``` and ```nb_particles```, but they are not mandatory.\n",
    "\n",
    "\n",
    "Then, in your code where you make the thymio move, you call the method ```update```:\n",
    "\n",
    "```python\n",
    "myPose.update(speed, prox, dt, myMap)\n",
    "```\n",
    "This functions does everything for you, it updates the inner variables automatically. You can see in details what are the arguments by using ``` help(Pose.update)```. You can also do this for any function of any class.\n",
    "\n",
    "If you want to know where the robot is, call the method ```myPose.get_coords()```. It returns the pose as a dict.\n",
    "\n",
    "You can also set the pose using ```myPose.set_coords(args)```. In ```args```, you can either put ```x, y, theta``` or a dict ```{'x':x, 'y':y, 'theta':theta}```. This way, this code works :\n",
    "```python\n",
    "myPose.set_coords(x0, y0, theta0)\n",
    "# do something with myPose\n",
    "myCoords = myPose.get_coords()\n",
    "# do something with myCoords\n",
    "myPose.set_coords(myCoords)\n",
    "```\n",
    "\n",
    "The pose can be plotted using ```myPose.plot()```. Optional boolean arguments include ```plot_particles``` and ```plot_theta```.\n",
    "\n",
    "\n",
    "In the cell below, you can test a working example of simulation. It assigns randomly the speeds of the motors and plots the pose every 5 iterations.\n",
    "\n",
    "For it to work, one must open a valid map called myMap in the same notebook."
   ]
  },
  {
   "cell_type": "code",
   "execution_count": null,
   "id": "07a56e94",
   "metadata": {},
   "outputs": [],
   "source": [
    "MAX_SPEED = 560\n",
    "MIN_SPEED = 100\n",
    "MAX_PROX = 1000\n",
    "DT = 0.2\n",
    "NB_PARTICLES = 100\n",
    "\n",
    "\n",
    "for i in range(40):\n",
    "    speed = [random.randrange(MIN_SPEED, MAX_SPEED), random.randrange(MIN_SPEED, MAX_SPEED)]\n",
    "    prox = myPose._expected_prox(myMap)\n",
    "    \n",
    "    # add noise on the prox\n",
    "    prox[0] += random.gauss(0, PROX_L_STD)\n",
    "    prox[1] += random.gauss(0, PROX_R_STD)\n",
    "\n",
    "    myPose.update(speed, prox, DT, myMap)\n",
    "    \n",
    "    # plot only 1 on 5 steps\n",
    "    if i%5 == 0:\n",
    "        myPose.plot(plot_theta=False, theta_size=5, plot_particles=True)\n",
    "    \n",
    "plt.scatter(0, 0, marker='+')\n",
    "plt.xlim(0, MAP_REAL[0])\n",
    "plt.ylim(0, MAP_REAL[1])\n",
    "plt.show()"
   ]
  },
  {
   "cell_type": "code",
   "execution_count": null,
   "id": "db4b7850",
   "metadata": {},
   "outputs": [],
   "source": [
    "help(Pose.plot)"
   ]
  },
  {
   "cell_type": "markdown",
   "id": "938b6d69-1813-4ec5-bf28-5c8fd7923e5f",
   "metadata": {},
   "source": [
    "# Conclusion "
   ]
  },
  {
   "cell_type": "markdown",
   "id": "ae602682",
   "metadata": {},
   "source": [
    "..."
   ]
  },
  {
   "cell_type": "markdown",
   "id": "ef1d8691-1251-4846-8f72-4a5757c902fa",
   "metadata": {},
   "source": [
    "# Annexes"
   ]
  },
  {
   "cell_type": "code",
   "execution_count": null,
   "id": "fb4a5b0a-edb3-4d94-a773-3ee6df836e3d",
   "metadata": {},
   "outputs": [],
   "source": [
    "from IPython.display import display, clear_output\n",
    "%matplotlib inline\n",
    "%run PathPlanning.ipynb\n",
    "smoothing_factor= 0.01 # smoothing factor\n",
    "radius = 50 #thymio radius\n",
    "epsilon = 500\n",
    "\n",
    "csvPath = \"output_for_report/roads.csv\"\n",
    "savePath = \"output_for_report/csvIM.png\"\n",
    "\n",
    "goalPath = \"output_for_report/goal.csv\"\n",
    "goalsavePath = \"output_for_report/csvIM_goal.png\"\n",
    "\n",
    "graph_name = 'output_for_report/graph'\n",
    "\n",
    "plot = True\n",
    "verbose = False\n",
    "\n",
    "XSIZE = 2*841\n",
    "YSIZE = 1188\n",
    "DESIRED_SIZE=[XSIZE, YSIZE]\n",
    "start = [1200, 1100]\n",
    "stop = [800, 1000]\n",
    "path, inObstacle = PathPlanning_online(graph_name, start, stop, savePath, radius)\n",
    "\n",
    "pos = start\n",
    "inObstacle = False\n",
    "for i in range(55):\n",
    "    d = FindDirection(pos,path[1])\n",
    "    pos[0] = pos[0] - 25*d[0]\n",
    "    pos[1] = pos[1] - 25*d[1]\n",
    "    fig = plt.figure(figsize=(10,10))\n",
    "    path , inObstacle = PathPlanning_online(graph_name, pos, stop, savePath, radius, plot = True)\n",
    "    \n",
    "    if inObstacle == False:\n",
    "        d = FindDirection(pos,path[1])\n",
    "        posp = [0,0]\n",
    "        posp[0] = pos[0] - 25*d[0]\n",
    "        posp[1] = pos[1] - 25*d[1]\n",
    "        _ , inObstacle = PathPlanning_online(graph_name, posp, stop)\n",
    "        \n",
    "    clear_output(wait=True)\n",
    "    \n",
    "    if inObstacle == False:\n",
    "        old_path = path\n",
    "        plt.show()\n",
    "    else:\n",
    "        #keep same path\n",
    "        path = old_path"
   ]
  }
 ],
 "metadata": {
  "kernelspec": {
   "display_name": "Python 3 (ipykernel)",
   "language": "python",
   "name": "python3"
  },
  "language_info": {
   "codemirror_mode": {
    "name": "ipython",
    "version": 3
   },
   "file_extension": ".py",
   "mimetype": "text/x-python",
   "name": "python",
   "nbconvert_exporter": "python",
   "pygments_lexer": "ipython3",
   "version": "3.9.6"
  },
  "toc": {
   "base_numbering": 1,
   "nav_menu": {},
   "number_sections": true,
   "sideBar": false,
   "skip_h1_title": false,
   "title_cell": "Table of Contents",
   "title_sidebar": "Contents",
   "toc_cell": true,
   "toc_position": {},
   "toc_section_display": true,
   "toc_window_display": false
  }
 },
 "nbformat": 4,
 "nbformat_minor": 5
}
