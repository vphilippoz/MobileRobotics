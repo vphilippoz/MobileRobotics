{
 "cells": [
  {
   "cell_type": "markdown",
   "id": "443bb75d-6bec-4dd7-a351-c1d4b9c12a9a",
   "metadata": {},
   "source": [
    "# Project Report"
   ]
  },
  {
   "cell_type": "markdown",
   "id": "9af006cc-9b86-43e0-b8b9-b80129743589",
   "metadata": {},
   "source": [
    "## Basics of Mobile Robotics, MICRO-452"
   ]
  },
  {
   "cell_type": "markdown",
   "id": "9d704bbd-049b-4300-b193-ad024750db29",
   "metadata": {},
   "source": [
    "### Mehdi Krichen, Francesco Nonis, Michael Richter, Vincent Philippoz, Nathan Decurnex"
   ]
  },
  {
   "cell_type": "markdown",
   "id": "b43dca7a-6a90-418b-bca9-321ef47e1c75",
   "metadata": {},
   "source": [
    "# 1) Environment"
   ]
  },
  {
   "cell_type": "code",
   "execution_count": null,
   "id": "c24bdfcb-fc81-4010-890a-80284fea12b5",
   "metadata": {},
   "outputs": [],
   "source": []
  }
 ],
 "metadata": {
  "kernelspec": {
   "display_name": "Python 3",
   "language": "python",
   "name": "python3"
  },
  "language_info": {
   "codemirror_mode": {
    "name": "ipython",
    "version": 3
   },
   "file_extension": ".py",
   "mimetype": "text/x-python",
   "name": "python",
   "nbconvert_exporter": "python",
   "pygments_lexer": "ipython3",
   "version": "3.8.10"
  }
 },
 "nbformat": 4,
 "nbformat_minor": 5
}
